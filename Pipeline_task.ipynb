{
  "cells": [
    {
      "cell_type": "markdown",
      "metadata": {
        "id": "lxHeaBoMvNZM"
      },
      "source": [
        "### Notebook Preperation:"
      ]
    },
    {
      "cell_type": "code",
      "execution_count": 1,
      "metadata": {
        "id": "cZjYCwkCvNZY"
      },
      "outputs": [],
      "source": [
        "import pandas as pd\n",
        "import numpy as np\n",
        "import warnings\n",
        "import matplotlib.pyplot as plt\n",
        "import seaborn as sns\n",
        "import pickle\n",
        "\n",
        "sns.set()\n",
        "warnings.filterwarnings('ignore')"
      ]
    },
    {
      "cell_type": "code",
      "execution_count": 2,
      "metadata": {
        "id": "S-pLxEDavNZe"
      },
      "outputs": [],
      "source": [
        "from sklearn.preprocessing import StandardScaler\n",
        "from sklearn.decomposition import PCA\n",
        "from sklearn.metrics import accuracy_score, classification_report, confusion_matrix, r2_score\n",
        "from sklearn.model_selection import train_test_split\n",
        "\n",
        "from sklearn.pipeline import Pipeline"
      ]
    },
    {
      "cell_type": "markdown",
      "metadata": {
        "id": "fut7jBfXvNZg"
      },
      "source": [
        "---"
      ]
    },
    {
      "cell_type": "code",
      "execution_count": 3,
      "metadata": {
        "id": "WhUVtqVgvNZi"
      },
      "outputs": [],
      "source": [
        "pd.set_option('display.max_columns', None)"
      ]
    },
    {
      "cell_type": "markdown",
      "metadata": {
        "id": "jsIegharvNZj"
      },
      "source": [
        "---"
      ]
    },
    {
      "cell_type": "markdown",
      "metadata": {
        "id": "8gYVFB09vNZj"
      },
      "source": [
        "### Loading Data, Creating Target variable, and Preprocessing:"
      ]
    },
    {
      "cell_type": "markdown",
      "metadata": {
        "id": "kF3mkZblvNZk"
      },
      "source": [
        "**Loading data**"
      ]
    },
    {
      "cell_type": "code",
      "source": [
        "from google.colab import drive\n",
        "drive.mount('/content/drive')"
      ],
      "metadata": {
        "colab": {
          "base_uri": "https://localhost:8080/"
        },
        "id": "MHc_c4JRxi57",
        "outputId": "802da1b8-fde4-4b3c-da07-d6b65084860f"
      },
      "execution_count": 4,
      "outputs": [
        {
          "output_type": "stream",
          "name": "stdout",
          "text": [
            "Drive already mounted at /content/drive; to attempt to forcibly remount, call drive.mount(\"/content/drive\", force_remount=True).\n"
          ]
        }
      ]
    },
    {
      "cell_type": "code",
      "source": [
        "df= pd.read_csv(\"/content/drive/MyDrive/final_kk_data.csv\")\n",
        "df.head()"
      ],
      "metadata": {
        "colab": {
          "base_uri": "https://localhost:8080/",
          "height": 548
        },
        "id": "lDHX9JeV5Qr9",
        "outputId": "88f70862-d640-4b33-a9ca-d464ab870ce8"
      },
      "execution_count": 5,
      "outputs": [
        {
          "output_type": "execute_result",
          "data": {
            "text/plain": [
              "   Unnamed: 0  BidsPortfolioManager  BidsApi  BidsManual  NewCreditCustomer  \\\n",
              "0           0                   0.0      0.0    115.0410               True   \n",
              "1           1                   0.0      0.0    140.6057              False   \n",
              "2           2                   0.0      0.0    319.5580               True   \n",
              "3           3                   0.0      0.0     57.5205               True   \n",
              "4           4                   0.0      0.0    319.5582               True   \n",
              "\n",
              "                              VerificationType LanguageCode  Age  Gender  \\\n",
              "0  Income unverified,cross-referenced by phone     Estonian   61  Female   \n",
              "1  Income unverified,cross-referenced by phone     Estonian   48  Female   \n",
              "2  Income unverified,cross-referenced by phone     Estonian   58  Female   \n",
              "3  Income unverified,cross-referenced by phone     Estonian   23  Female   \n",
              "4  Income unverified,cross-referenced by phone     Estonian   25  Female   \n",
              "\n",
              "  Country  AppliedAmount    Amount  Interest  LoanDuration  MonthlyPayment  \\\n",
              "0      EE       319.5582  115.0408      30.0            12      130.393314   \n",
              "1      EE       191.7349  140.6057      25.0             1      130.393314   \n",
              "2      EE       319.5582  319.5409      25.0            20      130.393314   \n",
              "3      EE       127.8233   57.5205      45.0            15      130.393314   \n",
              "4      EE       319.5582  319.5436      30.0            12      130.393314   \n",
              "\n",
              "            UseOfLoan             Education MaritalStatus EmploymentStatus  \\\n",
              "0               Other  Vocational education       Married   Fully employed   \n",
              "1               Other      Higher education      Divorced   Fully employed   \n",
              "2    Home improvement   Secondary education       Married   Fully employed   \n",
              "3  Loan consolidation       Basic education        Single      Not present   \n",
              "4             Vehicle   Secondary education    Cohabitant   Fully employed   \n",
              "\n",
              "  EmploymentDurationCurrentEmployer            OccupationArea  \\\n",
              "0                        UpTo3Years      Retail and wholesale   \n",
              "1                    MoreThan5Years                 Education   \n",
              "2                        UpTo4Years  Hospitality and catering   \n",
              "3                        UpTo2Years                     Other   \n",
              "4                        UpTo2Years      Retail and wholesale   \n",
              "\n",
              "  HomeOwnershipType  IncomeTotal  ExistingLiabilities  LiabilitiesTotal  \\\n",
              "0     Not specified       3665.0                    0               0.0   \n",
              "1     Not specified       3665.0                    0               0.0   \n",
              "2     Not specified       3665.0                    0               0.0   \n",
              "3     Not specified       3665.0                    0               0.0   \n",
              "4     Not specified       3665.0                    0               0.0   \n",
              "\n",
              "   RefinanceLiabilities  DebtToIncome  FreeCash Rating  Restructured  \\\n",
              "0                     0           0.0       0.0      F         False   \n",
              "1                     0           0.0       0.0      F         False   \n",
              "2                     0           0.0       0.0      F          True   \n",
              "3                     0           0.0       0.0      F         False   \n",
              "4                     0           0.0       0.0      F         False   \n",
              "\n",
              "  CreditScoreEsMicroL  PrincipalPaymentsMade  InterestAndPenaltyPaymentsMade  \\\n",
              "0                   M               115.0408                         20.4222   \n",
              "1                   M               140.6057                          2.0227   \n",
              "2                   M               203.1909                         59.7626   \n",
              "3                   M                57.5205                         18.7323   \n",
              "4                   M               319.5436                        220.4200   \n",
              "\n",
              "   PrincipalBalance  InterestAndPenaltyBalance  NoOfPreviousLoansBeforeLoan  \\\n",
              "0              0.00                       0.00                          1.0   \n",
              "1              0.00                       0.00                          2.0   \n",
              "2            116.35                     414.07                          0.0   \n",
              "3              0.00                       0.00                          1.0   \n",
              "4              0.00                       0.00                          1.0   \n",
              "\n",
              "   AmountOfPreviousLoansBeforeLoan  PreviousRepaymentsBeforeLoan  \\\n",
              "0                          83.0852                        0.0000   \n",
              "1                         255.6467                      258.6256   \n",
              "2                           0.0000                        0.0000   \n",
              "3                         134.2144                        0.0000   \n",
              "4                         146.9966                        0.0000   \n",
              "\n",
              "   PreviousEarlyRepaymentsCountBeforeLoan  LoanStatus  \n",
              "0                                       0  NotDefault  \n",
              "1                                       0  NotDefault  \n",
              "2                                       0     Default  \n",
              "3                                       0  NotDefault  \n",
              "4                                       0     Default  "
            ],
            "text/html": [
              "\n",
              "  <div id=\"df-dc2e7727-ed87-42d6-88bb-17ceb6927ea6\">\n",
              "    <div class=\"colab-df-container\">\n",
              "      <div>\n",
              "<style scoped>\n",
              "    .dataframe tbody tr th:only-of-type {\n",
              "        vertical-align: middle;\n",
              "    }\n",
              "\n",
              "    .dataframe tbody tr th {\n",
              "        vertical-align: top;\n",
              "    }\n",
              "\n",
              "    .dataframe thead th {\n",
              "        text-align: right;\n",
              "    }\n",
              "</style>\n",
              "<table border=\"1\" class=\"dataframe\">\n",
              "  <thead>\n",
              "    <tr style=\"text-align: right;\">\n",
              "      <th></th>\n",
              "      <th>Unnamed: 0</th>\n",
              "      <th>BidsPortfolioManager</th>\n",
              "      <th>BidsApi</th>\n",
              "      <th>BidsManual</th>\n",
              "      <th>NewCreditCustomer</th>\n",
              "      <th>VerificationType</th>\n",
              "      <th>LanguageCode</th>\n",
              "      <th>Age</th>\n",
              "      <th>Gender</th>\n",
              "      <th>Country</th>\n",
              "      <th>AppliedAmount</th>\n",
              "      <th>Amount</th>\n",
              "      <th>Interest</th>\n",
              "      <th>LoanDuration</th>\n",
              "      <th>MonthlyPayment</th>\n",
              "      <th>UseOfLoan</th>\n",
              "      <th>Education</th>\n",
              "      <th>MaritalStatus</th>\n",
              "      <th>EmploymentStatus</th>\n",
              "      <th>EmploymentDurationCurrentEmployer</th>\n",
              "      <th>OccupationArea</th>\n",
              "      <th>HomeOwnershipType</th>\n",
              "      <th>IncomeTotal</th>\n",
              "      <th>ExistingLiabilities</th>\n",
              "      <th>LiabilitiesTotal</th>\n",
              "      <th>RefinanceLiabilities</th>\n",
              "      <th>DebtToIncome</th>\n",
              "      <th>FreeCash</th>\n",
              "      <th>Rating</th>\n",
              "      <th>Restructured</th>\n",
              "      <th>CreditScoreEsMicroL</th>\n",
              "      <th>PrincipalPaymentsMade</th>\n",
              "      <th>InterestAndPenaltyPaymentsMade</th>\n",
              "      <th>PrincipalBalance</th>\n",
              "      <th>InterestAndPenaltyBalance</th>\n",
              "      <th>NoOfPreviousLoansBeforeLoan</th>\n",
              "      <th>AmountOfPreviousLoansBeforeLoan</th>\n",
              "      <th>PreviousRepaymentsBeforeLoan</th>\n",
              "      <th>PreviousEarlyRepaymentsCountBeforeLoan</th>\n",
              "      <th>LoanStatus</th>\n",
              "    </tr>\n",
              "  </thead>\n",
              "  <tbody>\n",
              "    <tr>\n",
              "      <th>0</th>\n",
              "      <td>0</td>\n",
              "      <td>0.0</td>\n",
              "      <td>0.0</td>\n",
              "      <td>115.0410</td>\n",
              "      <td>True</td>\n",
              "      <td>Income unverified,cross-referenced by phone</td>\n",
              "      <td>Estonian</td>\n",
              "      <td>61</td>\n",
              "      <td>Female</td>\n",
              "      <td>EE</td>\n",
              "      <td>319.5582</td>\n",
              "      <td>115.0408</td>\n",
              "      <td>30.0</td>\n",
              "      <td>12</td>\n",
              "      <td>130.393314</td>\n",
              "      <td>Other</td>\n",
              "      <td>Vocational education</td>\n",
              "      <td>Married</td>\n",
              "      <td>Fully employed</td>\n",
              "      <td>UpTo3Years</td>\n",
              "      <td>Retail and wholesale</td>\n",
              "      <td>Not specified</td>\n",
              "      <td>3665.0</td>\n",
              "      <td>0</td>\n",
              "      <td>0.0</td>\n",
              "      <td>0</td>\n",
              "      <td>0.0</td>\n",
              "      <td>0.0</td>\n",
              "      <td>F</td>\n",
              "      <td>False</td>\n",
              "      <td>M</td>\n",
              "      <td>115.0408</td>\n",
              "      <td>20.4222</td>\n",
              "      <td>0.00</td>\n",
              "      <td>0.00</td>\n",
              "      <td>1.0</td>\n",
              "      <td>83.0852</td>\n",
              "      <td>0.0000</td>\n",
              "      <td>0</td>\n",
              "      <td>NotDefault</td>\n",
              "    </tr>\n",
              "    <tr>\n",
              "      <th>1</th>\n",
              "      <td>1</td>\n",
              "      <td>0.0</td>\n",
              "      <td>0.0</td>\n",
              "      <td>140.6057</td>\n",
              "      <td>False</td>\n",
              "      <td>Income unverified,cross-referenced by phone</td>\n",
              "      <td>Estonian</td>\n",
              "      <td>48</td>\n",
              "      <td>Female</td>\n",
              "      <td>EE</td>\n",
              "      <td>191.7349</td>\n",
              "      <td>140.6057</td>\n",
              "      <td>25.0</td>\n",
              "      <td>1</td>\n",
              "      <td>130.393314</td>\n",
              "      <td>Other</td>\n",
              "      <td>Higher education</td>\n",
              "      <td>Divorced</td>\n",
              "      <td>Fully employed</td>\n",
              "      <td>MoreThan5Years</td>\n",
              "      <td>Education</td>\n",
              "      <td>Not specified</td>\n",
              "      <td>3665.0</td>\n",
              "      <td>0</td>\n",
              "      <td>0.0</td>\n",
              "      <td>0</td>\n",
              "      <td>0.0</td>\n",
              "      <td>0.0</td>\n",
              "      <td>F</td>\n",
              "      <td>False</td>\n",
              "      <td>M</td>\n",
              "      <td>140.6057</td>\n",
              "      <td>2.0227</td>\n",
              "      <td>0.00</td>\n",
              "      <td>0.00</td>\n",
              "      <td>2.0</td>\n",
              "      <td>255.6467</td>\n",
              "      <td>258.6256</td>\n",
              "      <td>0</td>\n",
              "      <td>NotDefault</td>\n",
              "    </tr>\n",
              "    <tr>\n",
              "      <th>2</th>\n",
              "      <td>2</td>\n",
              "      <td>0.0</td>\n",
              "      <td>0.0</td>\n",
              "      <td>319.5580</td>\n",
              "      <td>True</td>\n",
              "      <td>Income unverified,cross-referenced by phone</td>\n",
              "      <td>Estonian</td>\n",
              "      <td>58</td>\n",
              "      <td>Female</td>\n",
              "      <td>EE</td>\n",
              "      <td>319.5582</td>\n",
              "      <td>319.5409</td>\n",
              "      <td>25.0</td>\n",
              "      <td>20</td>\n",
              "      <td>130.393314</td>\n",
              "      <td>Home improvement</td>\n",
              "      <td>Secondary education</td>\n",
              "      <td>Married</td>\n",
              "      <td>Fully employed</td>\n",
              "      <td>UpTo4Years</td>\n",
              "      <td>Hospitality and catering</td>\n",
              "      <td>Not specified</td>\n",
              "      <td>3665.0</td>\n",
              "      <td>0</td>\n",
              "      <td>0.0</td>\n",
              "      <td>0</td>\n",
              "      <td>0.0</td>\n",
              "      <td>0.0</td>\n",
              "      <td>F</td>\n",
              "      <td>True</td>\n",
              "      <td>M</td>\n",
              "      <td>203.1909</td>\n",
              "      <td>59.7626</td>\n",
              "      <td>116.35</td>\n",
              "      <td>414.07</td>\n",
              "      <td>0.0</td>\n",
              "      <td>0.0000</td>\n",
              "      <td>0.0000</td>\n",
              "      <td>0</td>\n",
              "      <td>Default</td>\n",
              "    </tr>\n",
              "    <tr>\n",
              "      <th>3</th>\n",
              "      <td>3</td>\n",
              "      <td>0.0</td>\n",
              "      <td>0.0</td>\n",
              "      <td>57.5205</td>\n",
              "      <td>True</td>\n",
              "      <td>Income unverified,cross-referenced by phone</td>\n",
              "      <td>Estonian</td>\n",
              "      <td>23</td>\n",
              "      <td>Female</td>\n",
              "      <td>EE</td>\n",
              "      <td>127.8233</td>\n",
              "      <td>57.5205</td>\n",
              "      <td>45.0</td>\n",
              "      <td>15</td>\n",
              "      <td>130.393314</td>\n",
              "      <td>Loan consolidation</td>\n",
              "      <td>Basic education</td>\n",
              "      <td>Single</td>\n",
              "      <td>Not present</td>\n",
              "      <td>UpTo2Years</td>\n",
              "      <td>Other</td>\n",
              "      <td>Not specified</td>\n",
              "      <td>3665.0</td>\n",
              "      <td>0</td>\n",
              "      <td>0.0</td>\n",
              "      <td>0</td>\n",
              "      <td>0.0</td>\n",
              "      <td>0.0</td>\n",
              "      <td>F</td>\n",
              "      <td>False</td>\n",
              "      <td>M</td>\n",
              "      <td>57.5205</td>\n",
              "      <td>18.7323</td>\n",
              "      <td>0.00</td>\n",
              "      <td>0.00</td>\n",
              "      <td>1.0</td>\n",
              "      <td>134.2144</td>\n",
              "      <td>0.0000</td>\n",
              "      <td>0</td>\n",
              "      <td>NotDefault</td>\n",
              "    </tr>\n",
              "    <tr>\n",
              "      <th>4</th>\n",
              "      <td>4</td>\n",
              "      <td>0.0</td>\n",
              "      <td>0.0</td>\n",
              "      <td>319.5582</td>\n",
              "      <td>True</td>\n",
              "      <td>Income unverified,cross-referenced by phone</td>\n",
              "      <td>Estonian</td>\n",
              "      <td>25</td>\n",
              "      <td>Female</td>\n",
              "      <td>EE</td>\n",
              "      <td>319.5582</td>\n",
              "      <td>319.5436</td>\n",
              "      <td>30.0</td>\n",
              "      <td>12</td>\n",
              "      <td>130.393314</td>\n",
              "      <td>Vehicle</td>\n",
              "      <td>Secondary education</td>\n",
              "      <td>Cohabitant</td>\n",
              "      <td>Fully employed</td>\n",
              "      <td>UpTo2Years</td>\n",
              "      <td>Retail and wholesale</td>\n",
              "      <td>Not specified</td>\n",
              "      <td>3665.0</td>\n",
              "      <td>0</td>\n",
              "      <td>0.0</td>\n",
              "      <td>0</td>\n",
              "      <td>0.0</td>\n",
              "      <td>0.0</td>\n",
              "      <td>F</td>\n",
              "      <td>False</td>\n",
              "      <td>M</td>\n",
              "      <td>319.5436</td>\n",
              "      <td>220.4200</td>\n",
              "      <td>0.00</td>\n",
              "      <td>0.00</td>\n",
              "      <td>1.0</td>\n",
              "      <td>146.9966</td>\n",
              "      <td>0.0000</td>\n",
              "      <td>0</td>\n",
              "      <td>Default</td>\n",
              "    </tr>\n",
              "  </tbody>\n",
              "</table>\n",
              "</div>\n",
              "      <button class=\"colab-df-convert\" onclick=\"convertToInteractive('df-dc2e7727-ed87-42d6-88bb-17ceb6927ea6')\"\n",
              "              title=\"Convert this dataframe to an interactive table.\"\n",
              "              style=\"display:none;\">\n",
              "        \n",
              "  <svg xmlns=\"http://www.w3.org/2000/svg\" height=\"24px\"viewBox=\"0 0 24 24\"\n",
              "       width=\"24px\">\n",
              "    <path d=\"M0 0h24v24H0V0z\" fill=\"none\"/>\n",
              "    <path d=\"M18.56 5.44l.94 2.06.94-2.06 2.06-.94-2.06-.94-.94-2.06-.94 2.06-2.06.94zm-11 1L8.5 8.5l.94-2.06 2.06-.94-2.06-.94L8.5 2.5l-.94 2.06-2.06.94zm10 10l.94 2.06.94-2.06 2.06-.94-2.06-.94-.94-2.06-.94 2.06-2.06.94z\"/><path d=\"M17.41 7.96l-1.37-1.37c-.4-.4-.92-.59-1.43-.59-.52 0-1.04.2-1.43.59L10.3 9.45l-7.72 7.72c-.78.78-.78 2.05 0 2.83L4 21.41c.39.39.9.59 1.41.59.51 0 1.02-.2 1.41-.59l7.78-7.78 2.81-2.81c.8-.78.8-2.07 0-2.86zM5.41 20L4 18.59l7.72-7.72 1.47 1.35L5.41 20z\"/>\n",
              "  </svg>\n",
              "      </button>\n",
              "      \n",
              "  <style>\n",
              "    .colab-df-container {\n",
              "      display:flex;\n",
              "      flex-wrap:wrap;\n",
              "      gap: 12px;\n",
              "    }\n",
              "\n",
              "    .colab-df-convert {\n",
              "      background-color: #E8F0FE;\n",
              "      border: none;\n",
              "      border-radius: 50%;\n",
              "      cursor: pointer;\n",
              "      display: none;\n",
              "      fill: #1967D2;\n",
              "      height: 32px;\n",
              "      padding: 0 0 0 0;\n",
              "      width: 32px;\n",
              "    }\n",
              "\n",
              "    .colab-df-convert:hover {\n",
              "      background-color: #E2EBFA;\n",
              "      box-shadow: 0px 1px 2px rgba(60, 64, 67, 0.3), 0px 1px 3px 1px rgba(60, 64, 67, 0.15);\n",
              "      fill: #174EA6;\n",
              "    }\n",
              "\n",
              "    [theme=dark] .colab-df-convert {\n",
              "      background-color: #3B4455;\n",
              "      fill: #D2E3FC;\n",
              "    }\n",
              "\n",
              "    [theme=dark] .colab-df-convert:hover {\n",
              "      background-color: #434B5C;\n",
              "      box-shadow: 0px 1px 3px 1px rgba(0, 0, 0, 0.15);\n",
              "      filter: drop-shadow(0px 1px 2px rgba(0, 0, 0, 0.3));\n",
              "      fill: #FFFFFF;\n",
              "    }\n",
              "  </style>\n",
              "\n",
              "      <script>\n",
              "        const buttonEl =\n",
              "          document.querySelector('#df-dc2e7727-ed87-42d6-88bb-17ceb6927ea6 button.colab-df-convert');\n",
              "        buttonEl.style.display =\n",
              "          google.colab.kernel.accessAllowed ? 'block' : 'none';\n",
              "\n",
              "        async function convertToInteractive(key) {\n",
              "          const element = document.querySelector('#df-dc2e7727-ed87-42d6-88bb-17ceb6927ea6');\n",
              "          const dataTable =\n",
              "            await google.colab.kernel.invokeFunction('convertToInteractive',\n",
              "                                                     [key], {});\n",
              "          if (!dataTable) return;\n",
              "\n",
              "          const docLinkHtml = 'Like what you see? Visit the ' +\n",
              "            '<a target=\"_blank\" href=https://colab.research.google.com/notebooks/data_table.ipynb>data table notebook</a>'\n",
              "            + ' to learn more about interactive tables.';\n",
              "          element.innerHTML = '';\n",
              "          dataTable['output_type'] = 'display_data';\n",
              "          await google.colab.output.renderOutput(dataTable, element);\n",
              "          const docLink = document.createElement('div');\n",
              "          docLink.innerHTML = docLinkHtml;\n",
              "          element.appendChild(docLink);\n",
              "        }\n",
              "      </script>\n",
              "    </div>\n",
              "  </div>\n",
              "  "
            ]
          },
          "metadata": {},
          "execution_count": 5
        }
      ]
    },
    {
      "cell_type": "code",
      "execution_count": 6,
      "metadata": {
        "id": "Fh1JWHrYvNZm",
        "outputId": "81e44770-6ced-4626-aece-e91c337a213a",
        "colab": {
          "base_uri": "https://localhost:8080/"
        }
      },
      "outputs": [
        {
          "output_type": "stream",
          "name": "stdout",
          "text": [
            "0\n"
          ]
        },
        {
          "output_type": "execute_result",
          "data": {
            "text/plain": [
              "Index(['Unnamed: 0', 'BidsPortfolioManager', 'BidsApi', 'BidsManual',\n",
              "       'NewCreditCustomer', 'VerificationType', 'LanguageCode', 'Age',\n",
              "       'Gender', 'Country', 'AppliedAmount', 'Amount', 'Interest',\n",
              "       'LoanDuration', 'MonthlyPayment', 'UseOfLoan', 'Education',\n",
              "       'MaritalStatus', 'EmploymentStatus',\n",
              "       'EmploymentDurationCurrentEmployer', 'OccupationArea',\n",
              "       'HomeOwnershipType', 'IncomeTotal', 'ExistingLiabilities',\n",
              "       'LiabilitiesTotal', 'RefinanceLiabilities', 'DebtToIncome', 'FreeCash',\n",
              "       'Rating', 'Restructured', 'CreditScoreEsMicroL',\n",
              "       'PrincipalPaymentsMade', 'InterestAndPenaltyPaymentsMade',\n",
              "       'PrincipalBalance', 'InterestAndPenaltyBalance',\n",
              "       'NoOfPreviousLoansBeforeLoan', 'AmountOfPreviousLoansBeforeLoan',\n",
              "       'PreviousRepaymentsBeforeLoan',\n",
              "       'PreviousEarlyRepaymentsCountBeforeLoan', 'LoanStatus'],\n",
              "      dtype='object')"
            ]
          },
          "metadata": {},
          "execution_count": 6
        }
      ],
      "source": [
        "\n",
        "print(df.isnull().sum().sum())\n",
        "df.columns"
      ]
    },
    {
      "cell_type": "markdown",
      "metadata": {
        "id": "B6HQ82uOvNZs"
      },
      "source": [
        "#### **Creating Target Variables**"
      ]
    },
    {
      "cell_type": "markdown",
      "metadata": {
        "id": "Khx_1sf8vNZu"
      },
      "source": [
        "**Calculating LoanTenure**"
      ]
    },
    {
      "cell_type": "code",
      "execution_count": 7,
      "metadata": {
        "id": "RrLOEemlvNZv"
      },
      "outputs": [],
      "source": [
        "# Load raw data\n",
        "raw_data = pd.read_csv('/content/drive/MyDrive/Bondora_raw.csv')\n",
        "\n",
        "# Filter the for Status = Repaid or Late\n",
        "raw_data = raw_data[raw_data['Status'].isin(['Repaid', 'Late'])]\n",
        "\n",
        "# Choose only needed columns to calculate loan tenure\n",
        "raw_data = raw_data[['MaturityDate_Original', 'LoanDate']]"
      ]
    },
    {
      "cell_type": "code",
      "execution_count": 8,
      "metadata": {
        "id": "cFEZXEzpvNZw"
      },
      "outputs": [],
      "source": [
        "# Convert date columns into datetime objects\n",
        "for col in raw_data.columns.values:\n",
        "    raw_data[col] = pd.to_datetime(raw_data[col])\n",
        "\n",
        "# Calculate LoanTenure\n",
        "raw_data['LoanTenure'] = ((raw_data['MaturityDate_Original'].dt.year - raw_data['LoanDate'].dt.year)*12 +\\\n",
        "     (raw_data['MaturityDate_Original'].dt.month - raw_data['LoanDate'].dt.month))\n",
        "\n",
        "# Set that column in loan_data\n",
        "df['LoanTenure'] = raw_data['LoanTenure'].values\n",
        "\n",
        "# Drop LoanDuration as it has errors\n",
        "df = df.drop('LoanDuration', axis=1)"
      ]
    },
    {
      "cell_type": "markdown",
      "metadata": {
        "id": "ameWKa5ZvNZx"
      },
      "source": [
        "I. Equaty Monthly Installments (EMI)"
      ]
    },
    {
      "cell_type": "code",
      "source": [
        "loan_data_temp1 = df[[ 'Amount', 'Interest','LoanTenure']]\n",
        "loan_data_temp1.info()"
      ],
      "metadata": {
        "colab": {
          "base_uri": "https://localhost:8080/"
        },
        "id": "PH_veXkASxrX",
        "outputId": "0b6c8760-807b-4baa-ae92-066a16a747e7"
      },
      "execution_count": 9,
      "outputs": [
        {
          "output_type": "stream",
          "name": "stdout",
          "text": [
            "<class 'pandas.core.frame.DataFrame'>\n",
            "RangeIndex: 77394 entries, 0 to 77393\n",
            "Data columns (total 3 columns):\n",
            " #   Column      Non-Null Count  Dtype  \n",
            "---  ------      --------------  -----  \n",
            " 0   Amount      77394 non-null  float64\n",
            " 1   Interest    77394 non-null  float64\n",
            " 2   LoanTenure  77394 non-null  int64  \n",
            "dtypes: float64(2), int64(1)\n",
            "memory usage: 1.8 MB\n"
          ]
        }
      ]
    },
    {
      "cell_type": "code",
      "execution_count": 10,
      "metadata": {
        "id": "zANW_HqHvNZy"
      },
      "outputs": [],
      "source": [
        "def emi_cal(p, r, n):\n",
        "  r = ((r /12)/100)\n",
        "  emi = np.round((p * r * pow(1 + r, n)) / (pow(1 + r, n) - 1))\n",
        "  return emi "
      ]
    },
    {
      "cell_type": "code",
      "execution_count": 11,
      "metadata": {
        "id": "RXsgnC_nvNZz"
      },
      "outputs": [],
      "source": [
        "loan_data_temp1['EMI'] = emi_cal(loan_data_temp1['Amount'], loan_data_temp1['Interest'], loan_data_temp1['LoanTenure'])\n",
        "loan_data_temp1['tot_pay_back__amt']= loan_data_temp1['EMI'] * loan_data_temp1['LoanTenure']"
      ]
    },
    {
      "cell_type": "code",
      "source": [
        "df['EMI'] = loan_data_temp1['EMI']"
      ],
      "metadata": {
        "id": "M2SPQq_KS2vi"
      },
      "execution_count": 12,
      "outputs": []
    },
    {
      "cell_type": "code",
      "source": [
        "loan_data_temp1.head(20)"
      ],
      "metadata": {
        "colab": {
          "base_uri": "https://localhost:8080/",
          "height": 677
        },
        "id": "SPVSfB-nS5xX",
        "outputId": "80863f14-9fb1-48f8-879b-198d16fe928b"
      },
      "execution_count": 13,
      "outputs": [
        {
          "output_type": "execute_result",
          "data": {
            "text/plain": [
              "      Amount  Interest  LoanTenure    EMI  tot_pay_back__amt\n",
              "0   115.0408      30.0          12   11.0              132.0\n",
              "1   140.6057      25.0           1  144.0              144.0\n",
              "2   319.5409      25.0          20   20.0              400.0\n",
              "3    57.5205      45.0          15    5.0               75.0\n",
              "4   319.5436      30.0          12   31.0              372.0\n",
              "5   300.4314      30.0          25   16.0              400.0\n",
              "6   191.7445      32.0          21   12.0              252.0\n",
              "7    31.9518      20.0           7    5.0               35.0\n",
              "8    31.9498      20.0          13    3.0               39.0\n",
              "9   319.5583      25.0          13   28.0              364.0\n",
              "10  319.4988      25.0          24   17.0              408.0\n",
              "11  319.5590      25.0          13   28.0              364.0\n",
              "12  255.6464      30.0           2  133.0              266.0\n",
              "13   95.8675      25.0           2   49.0               98.0\n",
              "14  319.5600      40.0           2  168.0              336.0\n",
              "15  127.8200      25.0           7   20.0              140.0\n",
              "16  319.5600      24.0          13   28.0              364.0\n",
              "17  319.5711      35.0           2  167.0              334.0\n",
              "18  319.4968      29.0          25   17.0              425.0\n",
              "19  204.5327      20.0           7   31.0              217.0"
            ],
            "text/html": [
              "\n",
              "  <div id=\"df-4cf7d04a-ea00-4f46-bbf7-7325d12bda33\">\n",
              "    <div class=\"colab-df-container\">\n",
              "      <div>\n",
              "<style scoped>\n",
              "    .dataframe tbody tr th:only-of-type {\n",
              "        vertical-align: middle;\n",
              "    }\n",
              "\n",
              "    .dataframe tbody tr th {\n",
              "        vertical-align: top;\n",
              "    }\n",
              "\n",
              "    .dataframe thead th {\n",
              "        text-align: right;\n",
              "    }\n",
              "</style>\n",
              "<table border=\"1\" class=\"dataframe\">\n",
              "  <thead>\n",
              "    <tr style=\"text-align: right;\">\n",
              "      <th></th>\n",
              "      <th>Amount</th>\n",
              "      <th>Interest</th>\n",
              "      <th>LoanTenure</th>\n",
              "      <th>EMI</th>\n",
              "      <th>tot_pay_back__amt</th>\n",
              "    </tr>\n",
              "  </thead>\n",
              "  <tbody>\n",
              "    <tr>\n",
              "      <th>0</th>\n",
              "      <td>115.0408</td>\n",
              "      <td>30.0</td>\n",
              "      <td>12</td>\n",
              "      <td>11.0</td>\n",
              "      <td>132.0</td>\n",
              "    </tr>\n",
              "    <tr>\n",
              "      <th>1</th>\n",
              "      <td>140.6057</td>\n",
              "      <td>25.0</td>\n",
              "      <td>1</td>\n",
              "      <td>144.0</td>\n",
              "      <td>144.0</td>\n",
              "    </tr>\n",
              "    <tr>\n",
              "      <th>2</th>\n",
              "      <td>319.5409</td>\n",
              "      <td>25.0</td>\n",
              "      <td>20</td>\n",
              "      <td>20.0</td>\n",
              "      <td>400.0</td>\n",
              "    </tr>\n",
              "    <tr>\n",
              "      <th>3</th>\n",
              "      <td>57.5205</td>\n",
              "      <td>45.0</td>\n",
              "      <td>15</td>\n",
              "      <td>5.0</td>\n",
              "      <td>75.0</td>\n",
              "    </tr>\n",
              "    <tr>\n",
              "      <th>4</th>\n",
              "      <td>319.5436</td>\n",
              "      <td>30.0</td>\n",
              "      <td>12</td>\n",
              "      <td>31.0</td>\n",
              "      <td>372.0</td>\n",
              "    </tr>\n",
              "    <tr>\n",
              "      <th>5</th>\n",
              "      <td>300.4314</td>\n",
              "      <td>30.0</td>\n",
              "      <td>25</td>\n",
              "      <td>16.0</td>\n",
              "      <td>400.0</td>\n",
              "    </tr>\n",
              "    <tr>\n",
              "      <th>6</th>\n",
              "      <td>191.7445</td>\n",
              "      <td>32.0</td>\n",
              "      <td>21</td>\n",
              "      <td>12.0</td>\n",
              "      <td>252.0</td>\n",
              "    </tr>\n",
              "    <tr>\n",
              "      <th>7</th>\n",
              "      <td>31.9518</td>\n",
              "      <td>20.0</td>\n",
              "      <td>7</td>\n",
              "      <td>5.0</td>\n",
              "      <td>35.0</td>\n",
              "    </tr>\n",
              "    <tr>\n",
              "      <th>8</th>\n",
              "      <td>31.9498</td>\n",
              "      <td>20.0</td>\n",
              "      <td>13</td>\n",
              "      <td>3.0</td>\n",
              "      <td>39.0</td>\n",
              "    </tr>\n",
              "    <tr>\n",
              "      <th>9</th>\n",
              "      <td>319.5583</td>\n",
              "      <td>25.0</td>\n",
              "      <td>13</td>\n",
              "      <td>28.0</td>\n",
              "      <td>364.0</td>\n",
              "    </tr>\n",
              "    <tr>\n",
              "      <th>10</th>\n",
              "      <td>319.4988</td>\n",
              "      <td>25.0</td>\n",
              "      <td>24</td>\n",
              "      <td>17.0</td>\n",
              "      <td>408.0</td>\n",
              "    </tr>\n",
              "    <tr>\n",
              "      <th>11</th>\n",
              "      <td>319.5590</td>\n",
              "      <td>25.0</td>\n",
              "      <td>13</td>\n",
              "      <td>28.0</td>\n",
              "      <td>364.0</td>\n",
              "    </tr>\n",
              "    <tr>\n",
              "      <th>12</th>\n",
              "      <td>255.6464</td>\n",
              "      <td>30.0</td>\n",
              "      <td>2</td>\n",
              "      <td>133.0</td>\n",
              "      <td>266.0</td>\n",
              "    </tr>\n",
              "    <tr>\n",
              "      <th>13</th>\n",
              "      <td>95.8675</td>\n",
              "      <td>25.0</td>\n",
              "      <td>2</td>\n",
              "      <td>49.0</td>\n",
              "      <td>98.0</td>\n",
              "    </tr>\n",
              "    <tr>\n",
              "      <th>14</th>\n",
              "      <td>319.5600</td>\n",
              "      <td>40.0</td>\n",
              "      <td>2</td>\n",
              "      <td>168.0</td>\n",
              "      <td>336.0</td>\n",
              "    </tr>\n",
              "    <tr>\n",
              "      <th>15</th>\n",
              "      <td>127.8200</td>\n",
              "      <td>25.0</td>\n",
              "      <td>7</td>\n",
              "      <td>20.0</td>\n",
              "      <td>140.0</td>\n",
              "    </tr>\n",
              "    <tr>\n",
              "      <th>16</th>\n",
              "      <td>319.5600</td>\n",
              "      <td>24.0</td>\n",
              "      <td>13</td>\n",
              "      <td>28.0</td>\n",
              "      <td>364.0</td>\n",
              "    </tr>\n",
              "    <tr>\n",
              "      <th>17</th>\n",
              "      <td>319.5711</td>\n",
              "      <td>35.0</td>\n",
              "      <td>2</td>\n",
              "      <td>167.0</td>\n",
              "      <td>334.0</td>\n",
              "    </tr>\n",
              "    <tr>\n",
              "      <th>18</th>\n",
              "      <td>319.4968</td>\n",
              "      <td>29.0</td>\n",
              "      <td>25</td>\n",
              "      <td>17.0</td>\n",
              "      <td>425.0</td>\n",
              "    </tr>\n",
              "    <tr>\n",
              "      <th>19</th>\n",
              "      <td>204.5327</td>\n",
              "      <td>20.0</td>\n",
              "      <td>7</td>\n",
              "      <td>31.0</td>\n",
              "      <td>217.0</td>\n",
              "    </tr>\n",
              "  </tbody>\n",
              "</table>\n",
              "</div>\n",
              "      <button class=\"colab-df-convert\" onclick=\"convertToInteractive('df-4cf7d04a-ea00-4f46-bbf7-7325d12bda33')\"\n",
              "              title=\"Convert this dataframe to an interactive table.\"\n",
              "              style=\"display:none;\">\n",
              "        \n",
              "  <svg xmlns=\"http://www.w3.org/2000/svg\" height=\"24px\"viewBox=\"0 0 24 24\"\n",
              "       width=\"24px\">\n",
              "    <path d=\"M0 0h24v24H0V0z\" fill=\"none\"/>\n",
              "    <path d=\"M18.56 5.44l.94 2.06.94-2.06 2.06-.94-2.06-.94-.94-2.06-.94 2.06-2.06.94zm-11 1L8.5 8.5l.94-2.06 2.06-.94-2.06-.94L8.5 2.5l-.94 2.06-2.06.94zm10 10l.94 2.06.94-2.06 2.06-.94-2.06-.94-.94-2.06-.94 2.06-2.06.94z\"/><path d=\"M17.41 7.96l-1.37-1.37c-.4-.4-.92-.59-1.43-.59-.52 0-1.04.2-1.43.59L10.3 9.45l-7.72 7.72c-.78.78-.78 2.05 0 2.83L4 21.41c.39.39.9.59 1.41.59.51 0 1.02-.2 1.41-.59l7.78-7.78 2.81-2.81c.8-.78.8-2.07 0-2.86zM5.41 20L4 18.59l7.72-7.72 1.47 1.35L5.41 20z\"/>\n",
              "  </svg>\n",
              "      </button>\n",
              "      \n",
              "  <style>\n",
              "    .colab-df-container {\n",
              "      display:flex;\n",
              "      flex-wrap:wrap;\n",
              "      gap: 12px;\n",
              "    }\n",
              "\n",
              "    .colab-df-convert {\n",
              "      background-color: #E8F0FE;\n",
              "      border: none;\n",
              "      border-radius: 50%;\n",
              "      cursor: pointer;\n",
              "      display: none;\n",
              "      fill: #1967D2;\n",
              "      height: 32px;\n",
              "      padding: 0 0 0 0;\n",
              "      width: 32px;\n",
              "    }\n",
              "\n",
              "    .colab-df-convert:hover {\n",
              "      background-color: #E2EBFA;\n",
              "      box-shadow: 0px 1px 2px rgba(60, 64, 67, 0.3), 0px 1px 3px 1px rgba(60, 64, 67, 0.15);\n",
              "      fill: #174EA6;\n",
              "    }\n",
              "\n",
              "    [theme=dark] .colab-df-convert {\n",
              "      background-color: #3B4455;\n",
              "      fill: #D2E3FC;\n",
              "    }\n",
              "\n",
              "    [theme=dark] .colab-df-convert:hover {\n",
              "      background-color: #434B5C;\n",
              "      box-shadow: 0px 1px 3px 1px rgba(0, 0, 0, 0.15);\n",
              "      filter: drop-shadow(0px 1px 2px rgba(0, 0, 0, 0.3));\n",
              "      fill: #FFFFFF;\n",
              "    }\n",
              "  </style>\n",
              "\n",
              "      <script>\n",
              "        const buttonEl =\n",
              "          document.querySelector('#df-4cf7d04a-ea00-4f46-bbf7-7325d12bda33 button.colab-df-convert');\n",
              "        buttonEl.style.display =\n",
              "          google.colab.kernel.accessAllowed ? 'block' : 'none';\n",
              "\n",
              "        async function convertToInteractive(key) {\n",
              "          const element = document.querySelector('#df-4cf7d04a-ea00-4f46-bbf7-7325d12bda33');\n",
              "          const dataTable =\n",
              "            await google.colab.kernel.invokeFunction('convertToInteractive',\n",
              "                                                     [key], {});\n",
              "          if (!dataTable) return;\n",
              "\n",
              "          const docLinkHtml = 'Like what you see? Visit the ' +\n",
              "            '<a target=\"_blank\" href=https://colab.research.google.com/notebooks/data_table.ipynb>data table notebook</a>'\n",
              "            + ' to learn more about interactive tables.';\n",
              "          element.innerHTML = '';\n",
              "          dataTable['output_type'] = 'display_data';\n",
              "          await google.colab.output.renderOutput(dataTable, element);\n",
              "          const docLink = document.createElement('div');\n",
              "          docLink.innerHTML = docLinkHtml;\n",
              "          element.appendChild(docLink);\n",
              "        }\n",
              "      </script>\n",
              "    </div>\n",
              "  </div>\n",
              "  "
            ]
          },
          "metadata": {},
          "execution_count": 13
        }
      ]
    },
    {
      "cell_type": "markdown",
      "metadata": {
        "id": "apbW3MZGvNZ0"
      },
      "source": [
        "II. Eligible Loan Amount (ELA)"
      ]
    },
    {
      "cell_type": "code",
      "source": [
        "loan_data_temp2 = df[['AppliedAmount', 'Interest', 'IncomeTotal', 'LiabilitiesTotal', 'LoanTenure']]\n",
        "loan_data_temp2.info()"
      ],
      "metadata": {
        "colab": {
          "base_uri": "https://localhost:8080/"
        },
        "id": "Dxf_af1lTB2b",
        "outputId": "7d07b86b-9c4b-4425-c13f-971d204111d2"
      },
      "execution_count": 14,
      "outputs": [
        {
          "output_type": "stream",
          "name": "stdout",
          "text": [
            "<class 'pandas.core.frame.DataFrame'>\n",
            "RangeIndex: 77394 entries, 0 to 77393\n",
            "Data columns (total 5 columns):\n",
            " #   Column            Non-Null Count  Dtype  \n",
            "---  ------            --------------  -----  \n",
            " 0   AppliedAmount     77394 non-null  float64\n",
            " 1   Interest          77394 non-null  float64\n",
            " 2   IncomeTotal       77394 non-null  float64\n",
            " 3   LiabilitiesTotal  77394 non-null  float64\n",
            " 4   LoanTenure        77394 non-null  int64  \n",
            "dtypes: float64(4), int64(1)\n",
            "memory usage: 3.0 MB\n"
          ]
        }
      ]
    },
    {
      "cell_type": "code",
      "execution_count": 15,
      "metadata": {
        "id": "M707vzQUvNZ2"
      },
      "outputs": [],
      "source": [
        "def avlb_incm(inc,lia):\n",
        "  avlb_incm = np.round((inc-lia)*0.3)\n",
        "  return avlb_incm\n",
        "\n",
        "def tot_amt_pay(app_amt, r,n):\n",
        "  amt_pay_month = np.round((app_amt+(app_amt * (r/100) * (n/12))) / n)\n",
        "  return amt_pay_month\n"
      ]
    },
    {
      "cell_type": "code",
      "source": [
        "# Step 1\n",
        "loan_data_temp2['Avlb_Incm_Monthly'] = avlb_incm (loan_data_temp2['IncomeTotal'],loan_data_temp2['LiabilitiesTotal'])\n",
        "loan_data_temp2['Amt_pay_Monthly'] = tot_amt_pay(loan_data_temp2['AppliedAmount'],loan_data_temp2['Interest'],loan_data_temp2['LoanTenure'])\n",
        "loan_data_temp2.head()"
      ],
      "metadata": {
        "colab": {
          "base_uri": "https://localhost:8080/",
          "height": 206
        },
        "id": "JDH9S_NLTUf3",
        "outputId": "0c31aafe-44e3-47aa-ad04-c35560222fa0"
      },
      "execution_count": 16,
      "outputs": [
        {
          "output_type": "execute_result",
          "data": {
            "text/plain": [
              "   AppliedAmount  Interest  IncomeTotal  LiabilitiesTotal  LoanTenure  \\\n",
              "0       319.5582      30.0       3665.0               0.0          12   \n",
              "1       191.7349      25.0       3665.0               0.0           1   \n",
              "2       319.5582      25.0       3665.0               0.0          20   \n",
              "3       127.8233      45.0       3665.0               0.0          15   \n",
              "4       319.5582      30.0       3665.0               0.0          12   \n",
              "\n",
              "   Avlb_Incm_Monthly  Amt_pay_Monthly  \n",
              "0             1100.0             35.0  \n",
              "1             1100.0            196.0  \n",
              "2             1100.0             23.0  \n",
              "3             1100.0             13.0  \n",
              "4             1100.0             35.0  "
            ],
            "text/html": [
              "\n",
              "  <div id=\"df-8a08d557-2931-4fe2-b06c-81f697e9dd66\">\n",
              "    <div class=\"colab-df-container\">\n",
              "      <div>\n",
              "<style scoped>\n",
              "    .dataframe tbody tr th:only-of-type {\n",
              "        vertical-align: middle;\n",
              "    }\n",
              "\n",
              "    .dataframe tbody tr th {\n",
              "        vertical-align: top;\n",
              "    }\n",
              "\n",
              "    .dataframe thead th {\n",
              "        text-align: right;\n",
              "    }\n",
              "</style>\n",
              "<table border=\"1\" class=\"dataframe\">\n",
              "  <thead>\n",
              "    <tr style=\"text-align: right;\">\n",
              "      <th></th>\n",
              "      <th>AppliedAmount</th>\n",
              "      <th>Interest</th>\n",
              "      <th>IncomeTotal</th>\n",
              "      <th>LiabilitiesTotal</th>\n",
              "      <th>LoanTenure</th>\n",
              "      <th>Avlb_Incm_Monthly</th>\n",
              "      <th>Amt_pay_Monthly</th>\n",
              "    </tr>\n",
              "  </thead>\n",
              "  <tbody>\n",
              "    <tr>\n",
              "      <th>0</th>\n",
              "      <td>319.5582</td>\n",
              "      <td>30.0</td>\n",
              "      <td>3665.0</td>\n",
              "      <td>0.0</td>\n",
              "      <td>12</td>\n",
              "      <td>1100.0</td>\n",
              "      <td>35.0</td>\n",
              "    </tr>\n",
              "    <tr>\n",
              "      <th>1</th>\n",
              "      <td>191.7349</td>\n",
              "      <td>25.0</td>\n",
              "      <td>3665.0</td>\n",
              "      <td>0.0</td>\n",
              "      <td>1</td>\n",
              "      <td>1100.0</td>\n",
              "      <td>196.0</td>\n",
              "    </tr>\n",
              "    <tr>\n",
              "      <th>2</th>\n",
              "      <td>319.5582</td>\n",
              "      <td>25.0</td>\n",
              "      <td>3665.0</td>\n",
              "      <td>0.0</td>\n",
              "      <td>20</td>\n",
              "      <td>1100.0</td>\n",
              "      <td>23.0</td>\n",
              "    </tr>\n",
              "    <tr>\n",
              "      <th>3</th>\n",
              "      <td>127.8233</td>\n",
              "      <td>45.0</td>\n",
              "      <td>3665.0</td>\n",
              "      <td>0.0</td>\n",
              "      <td>15</td>\n",
              "      <td>1100.0</td>\n",
              "      <td>13.0</td>\n",
              "    </tr>\n",
              "    <tr>\n",
              "      <th>4</th>\n",
              "      <td>319.5582</td>\n",
              "      <td>30.0</td>\n",
              "      <td>3665.0</td>\n",
              "      <td>0.0</td>\n",
              "      <td>12</td>\n",
              "      <td>1100.0</td>\n",
              "      <td>35.0</td>\n",
              "    </tr>\n",
              "  </tbody>\n",
              "</table>\n",
              "</div>\n",
              "      <button class=\"colab-df-convert\" onclick=\"convertToInteractive('df-8a08d557-2931-4fe2-b06c-81f697e9dd66')\"\n",
              "              title=\"Convert this dataframe to an interactive table.\"\n",
              "              style=\"display:none;\">\n",
              "        \n",
              "  <svg xmlns=\"http://www.w3.org/2000/svg\" height=\"24px\"viewBox=\"0 0 24 24\"\n",
              "       width=\"24px\">\n",
              "    <path d=\"M0 0h24v24H0V0z\" fill=\"none\"/>\n",
              "    <path d=\"M18.56 5.44l.94 2.06.94-2.06 2.06-.94-2.06-.94-.94-2.06-.94 2.06-2.06.94zm-11 1L8.5 8.5l.94-2.06 2.06-.94-2.06-.94L8.5 2.5l-.94 2.06-2.06.94zm10 10l.94 2.06.94-2.06 2.06-.94-2.06-.94-.94-2.06-.94 2.06-2.06.94z\"/><path d=\"M17.41 7.96l-1.37-1.37c-.4-.4-.92-.59-1.43-.59-.52 0-1.04.2-1.43.59L10.3 9.45l-7.72 7.72c-.78.78-.78 2.05 0 2.83L4 21.41c.39.39.9.59 1.41.59.51 0 1.02-.2 1.41-.59l7.78-7.78 2.81-2.81c.8-.78.8-2.07 0-2.86zM5.41 20L4 18.59l7.72-7.72 1.47 1.35L5.41 20z\"/>\n",
              "  </svg>\n",
              "      </button>\n",
              "      \n",
              "  <style>\n",
              "    .colab-df-container {\n",
              "      display:flex;\n",
              "      flex-wrap:wrap;\n",
              "      gap: 12px;\n",
              "    }\n",
              "\n",
              "    .colab-df-convert {\n",
              "      background-color: #E8F0FE;\n",
              "      border: none;\n",
              "      border-radius: 50%;\n",
              "      cursor: pointer;\n",
              "      display: none;\n",
              "      fill: #1967D2;\n",
              "      height: 32px;\n",
              "      padding: 0 0 0 0;\n",
              "      width: 32px;\n",
              "    }\n",
              "\n",
              "    .colab-df-convert:hover {\n",
              "      background-color: #E2EBFA;\n",
              "      box-shadow: 0px 1px 2px rgba(60, 64, 67, 0.3), 0px 1px 3px 1px rgba(60, 64, 67, 0.15);\n",
              "      fill: #174EA6;\n",
              "    }\n",
              "\n",
              "    [theme=dark] .colab-df-convert {\n",
              "      background-color: #3B4455;\n",
              "      fill: #D2E3FC;\n",
              "    }\n",
              "\n",
              "    [theme=dark] .colab-df-convert:hover {\n",
              "      background-color: #434B5C;\n",
              "      box-shadow: 0px 1px 3px 1px rgba(0, 0, 0, 0.15);\n",
              "      filter: drop-shadow(0px 1px 2px rgba(0, 0, 0, 0.3));\n",
              "      fill: #FFFFFF;\n",
              "    }\n",
              "  </style>\n",
              "\n",
              "      <script>\n",
              "        const buttonEl =\n",
              "          document.querySelector('#df-8a08d557-2931-4fe2-b06c-81f697e9dd66 button.colab-df-convert');\n",
              "        buttonEl.style.display =\n",
              "          google.colab.kernel.accessAllowed ? 'block' : 'none';\n",
              "\n",
              "        async function convertToInteractive(key) {\n",
              "          const element = document.querySelector('#df-8a08d557-2931-4fe2-b06c-81f697e9dd66');\n",
              "          const dataTable =\n",
              "            await google.colab.kernel.invokeFunction('convertToInteractive',\n",
              "                                                     [key], {});\n",
              "          if (!dataTable) return;\n",
              "\n",
              "          const docLinkHtml = 'Like what you see? Visit the ' +\n",
              "            '<a target=\"_blank\" href=https://colab.research.google.com/notebooks/data_table.ipynb>data table notebook</a>'\n",
              "            + ' to learn more about interactive tables.';\n",
              "          element.innerHTML = '';\n",
              "          dataTable['output_type'] = 'display_data';\n",
              "          await google.colab.output.renderOutput(dataTable, element);\n",
              "          const docLink = document.createElement('div');\n",
              "          docLink.innerHTML = docLinkHtml;\n",
              "          element.appendChild(docLink);\n",
              "        }\n",
              "      </script>\n",
              "    </div>\n",
              "  </div>\n",
              "  "
            ]
          },
          "metadata": {},
          "execution_count": 16
        }
      ]
    },
    {
      "cell_type": "code",
      "source": [
        "def ela(df):\n",
        "  avlb_incm = df['Avlb_Incm_Monthly'].values\n",
        "  tot_amt_pay= df['Amt_pay_Monthly'].values \n",
        "  n = df['LoanTenure'].values\n",
        "  ELA = np.empty(0)\n",
        "  for i in range(len(avlb_incm)):\n",
        "    if tot_amt_pay[i] <= avlb_incm[i]:\n",
        "      ELA = np.append(ELA, (tot_amt_pay[i] * n[i]))\n",
        "    else:\n",
        "      ELA = np.append(ELA, (avlb_incm[i] * n[i]))  \n",
        "  return ELA"
      ],
      "metadata": {
        "id": "RlB8XCnPTo3_"
      },
      "execution_count": 17,
      "outputs": []
    },
    {
      "cell_type": "code",
      "execution_count": 18,
      "metadata": {
        "id": "GRQuJouDvNZ4",
        "colab": {
          "base_uri": "https://localhost:8080/",
          "height": 363
        },
        "outputId": "f56724b4-383a-42aa-af9e-1dea26c9c81c"
      },
      "outputs": [
        {
          "output_type": "execute_result",
          "data": {
            "text/plain": [
              "   AppliedAmount  Interest  IncomeTotal  LiabilitiesTotal  LoanTenure  \\\n",
              "0       319.5582      30.0       3665.0               0.0          12   \n",
              "1       191.7349      25.0       3665.0               0.0           1   \n",
              "2       319.5582      25.0       3665.0               0.0          20   \n",
              "3       127.8233      45.0       3665.0               0.0          15   \n",
              "4       319.5582      30.0       3665.0               0.0          12   \n",
              "5       300.3847      30.0       3665.0               0.0          25   \n",
              "6       191.7349      32.0       3665.0               0.0          21   \n",
              "7       191.7349      20.0       3665.0               0.0           7   \n",
              "8       178.9526      20.0       3665.0               0.0          13   \n",
              "9       319.5582      25.0       3665.0               0.0          13   \n",
              "\n",
              "   Avlb_Incm_Monthly  Amt_pay_Monthly    ELA  \n",
              "0             1100.0             35.0  420.0  \n",
              "1             1100.0            196.0  196.0  \n",
              "2             1100.0             23.0  460.0  \n",
              "3             1100.0             13.0  195.0  \n",
              "4             1100.0             35.0  420.0  \n",
              "5             1100.0             20.0  500.0  \n",
              "6             1100.0             14.0  294.0  \n",
              "7             1100.0             31.0  217.0  \n",
              "8             1100.0             17.0  221.0  \n",
              "9             1100.0             31.0  403.0  "
            ],
            "text/html": [
              "\n",
              "  <div id=\"df-cf1188b4-54cb-4ad2-b6ee-5d1e38f5931c\">\n",
              "    <div class=\"colab-df-container\">\n",
              "      <div>\n",
              "<style scoped>\n",
              "    .dataframe tbody tr th:only-of-type {\n",
              "        vertical-align: middle;\n",
              "    }\n",
              "\n",
              "    .dataframe tbody tr th {\n",
              "        vertical-align: top;\n",
              "    }\n",
              "\n",
              "    .dataframe thead th {\n",
              "        text-align: right;\n",
              "    }\n",
              "</style>\n",
              "<table border=\"1\" class=\"dataframe\">\n",
              "  <thead>\n",
              "    <tr style=\"text-align: right;\">\n",
              "      <th></th>\n",
              "      <th>AppliedAmount</th>\n",
              "      <th>Interest</th>\n",
              "      <th>IncomeTotal</th>\n",
              "      <th>LiabilitiesTotal</th>\n",
              "      <th>LoanTenure</th>\n",
              "      <th>Avlb_Incm_Monthly</th>\n",
              "      <th>Amt_pay_Monthly</th>\n",
              "      <th>ELA</th>\n",
              "    </tr>\n",
              "  </thead>\n",
              "  <tbody>\n",
              "    <tr>\n",
              "      <th>0</th>\n",
              "      <td>319.5582</td>\n",
              "      <td>30.0</td>\n",
              "      <td>3665.0</td>\n",
              "      <td>0.0</td>\n",
              "      <td>12</td>\n",
              "      <td>1100.0</td>\n",
              "      <td>35.0</td>\n",
              "      <td>420.0</td>\n",
              "    </tr>\n",
              "    <tr>\n",
              "      <th>1</th>\n",
              "      <td>191.7349</td>\n",
              "      <td>25.0</td>\n",
              "      <td>3665.0</td>\n",
              "      <td>0.0</td>\n",
              "      <td>1</td>\n",
              "      <td>1100.0</td>\n",
              "      <td>196.0</td>\n",
              "      <td>196.0</td>\n",
              "    </tr>\n",
              "    <tr>\n",
              "      <th>2</th>\n",
              "      <td>319.5582</td>\n",
              "      <td>25.0</td>\n",
              "      <td>3665.0</td>\n",
              "      <td>0.0</td>\n",
              "      <td>20</td>\n",
              "      <td>1100.0</td>\n",
              "      <td>23.0</td>\n",
              "      <td>460.0</td>\n",
              "    </tr>\n",
              "    <tr>\n",
              "      <th>3</th>\n",
              "      <td>127.8233</td>\n",
              "      <td>45.0</td>\n",
              "      <td>3665.0</td>\n",
              "      <td>0.0</td>\n",
              "      <td>15</td>\n",
              "      <td>1100.0</td>\n",
              "      <td>13.0</td>\n",
              "      <td>195.0</td>\n",
              "    </tr>\n",
              "    <tr>\n",
              "      <th>4</th>\n",
              "      <td>319.5582</td>\n",
              "      <td>30.0</td>\n",
              "      <td>3665.0</td>\n",
              "      <td>0.0</td>\n",
              "      <td>12</td>\n",
              "      <td>1100.0</td>\n",
              "      <td>35.0</td>\n",
              "      <td>420.0</td>\n",
              "    </tr>\n",
              "    <tr>\n",
              "      <th>5</th>\n",
              "      <td>300.3847</td>\n",
              "      <td>30.0</td>\n",
              "      <td>3665.0</td>\n",
              "      <td>0.0</td>\n",
              "      <td>25</td>\n",
              "      <td>1100.0</td>\n",
              "      <td>20.0</td>\n",
              "      <td>500.0</td>\n",
              "    </tr>\n",
              "    <tr>\n",
              "      <th>6</th>\n",
              "      <td>191.7349</td>\n",
              "      <td>32.0</td>\n",
              "      <td>3665.0</td>\n",
              "      <td>0.0</td>\n",
              "      <td>21</td>\n",
              "      <td>1100.0</td>\n",
              "      <td>14.0</td>\n",
              "      <td>294.0</td>\n",
              "    </tr>\n",
              "    <tr>\n",
              "      <th>7</th>\n",
              "      <td>191.7349</td>\n",
              "      <td>20.0</td>\n",
              "      <td>3665.0</td>\n",
              "      <td>0.0</td>\n",
              "      <td>7</td>\n",
              "      <td>1100.0</td>\n",
              "      <td>31.0</td>\n",
              "      <td>217.0</td>\n",
              "    </tr>\n",
              "    <tr>\n",
              "      <th>8</th>\n",
              "      <td>178.9526</td>\n",
              "      <td>20.0</td>\n",
              "      <td>3665.0</td>\n",
              "      <td>0.0</td>\n",
              "      <td>13</td>\n",
              "      <td>1100.0</td>\n",
              "      <td>17.0</td>\n",
              "      <td>221.0</td>\n",
              "    </tr>\n",
              "    <tr>\n",
              "      <th>9</th>\n",
              "      <td>319.5582</td>\n",
              "      <td>25.0</td>\n",
              "      <td>3665.0</td>\n",
              "      <td>0.0</td>\n",
              "      <td>13</td>\n",
              "      <td>1100.0</td>\n",
              "      <td>31.0</td>\n",
              "      <td>403.0</td>\n",
              "    </tr>\n",
              "  </tbody>\n",
              "</table>\n",
              "</div>\n",
              "      <button class=\"colab-df-convert\" onclick=\"convertToInteractive('df-cf1188b4-54cb-4ad2-b6ee-5d1e38f5931c')\"\n",
              "              title=\"Convert this dataframe to an interactive table.\"\n",
              "              style=\"display:none;\">\n",
              "        \n",
              "  <svg xmlns=\"http://www.w3.org/2000/svg\" height=\"24px\"viewBox=\"0 0 24 24\"\n",
              "       width=\"24px\">\n",
              "    <path d=\"M0 0h24v24H0V0z\" fill=\"none\"/>\n",
              "    <path d=\"M18.56 5.44l.94 2.06.94-2.06 2.06-.94-2.06-.94-.94-2.06-.94 2.06-2.06.94zm-11 1L8.5 8.5l.94-2.06 2.06-.94-2.06-.94L8.5 2.5l-.94 2.06-2.06.94zm10 10l.94 2.06.94-2.06 2.06-.94-2.06-.94-.94-2.06-.94 2.06-2.06.94z\"/><path d=\"M17.41 7.96l-1.37-1.37c-.4-.4-.92-.59-1.43-.59-.52 0-1.04.2-1.43.59L10.3 9.45l-7.72 7.72c-.78.78-.78 2.05 0 2.83L4 21.41c.39.39.9.59 1.41.59.51 0 1.02-.2 1.41-.59l7.78-7.78 2.81-2.81c.8-.78.8-2.07 0-2.86zM5.41 20L4 18.59l7.72-7.72 1.47 1.35L5.41 20z\"/>\n",
              "  </svg>\n",
              "      </button>\n",
              "      \n",
              "  <style>\n",
              "    .colab-df-container {\n",
              "      display:flex;\n",
              "      flex-wrap:wrap;\n",
              "      gap: 12px;\n",
              "    }\n",
              "\n",
              "    .colab-df-convert {\n",
              "      background-color: #E8F0FE;\n",
              "      border: none;\n",
              "      border-radius: 50%;\n",
              "      cursor: pointer;\n",
              "      display: none;\n",
              "      fill: #1967D2;\n",
              "      height: 32px;\n",
              "      padding: 0 0 0 0;\n",
              "      width: 32px;\n",
              "    }\n",
              "\n",
              "    .colab-df-convert:hover {\n",
              "      background-color: #E2EBFA;\n",
              "      box-shadow: 0px 1px 2px rgba(60, 64, 67, 0.3), 0px 1px 3px 1px rgba(60, 64, 67, 0.15);\n",
              "      fill: #174EA6;\n",
              "    }\n",
              "\n",
              "    [theme=dark] .colab-df-convert {\n",
              "      background-color: #3B4455;\n",
              "      fill: #D2E3FC;\n",
              "    }\n",
              "\n",
              "    [theme=dark] .colab-df-convert:hover {\n",
              "      background-color: #434B5C;\n",
              "      box-shadow: 0px 1px 3px 1px rgba(0, 0, 0, 0.15);\n",
              "      filter: drop-shadow(0px 1px 2px rgba(0, 0, 0, 0.3));\n",
              "      fill: #FFFFFF;\n",
              "    }\n",
              "  </style>\n",
              "\n",
              "      <script>\n",
              "        const buttonEl =\n",
              "          document.querySelector('#df-cf1188b4-54cb-4ad2-b6ee-5d1e38f5931c button.colab-df-convert');\n",
              "        buttonEl.style.display =\n",
              "          google.colab.kernel.accessAllowed ? 'block' : 'none';\n",
              "\n",
              "        async function convertToInteractive(key) {\n",
              "          const element = document.querySelector('#df-cf1188b4-54cb-4ad2-b6ee-5d1e38f5931c');\n",
              "          const dataTable =\n",
              "            await google.colab.kernel.invokeFunction('convertToInteractive',\n",
              "                                                     [key], {});\n",
              "          if (!dataTable) return;\n",
              "\n",
              "          const docLinkHtml = 'Like what you see? Visit the ' +\n",
              "            '<a target=\"_blank\" href=https://colab.research.google.com/notebooks/data_table.ipynb>data table notebook</a>'\n",
              "            + ' to learn more about interactive tables.';\n",
              "          element.innerHTML = '';\n",
              "          dataTable['output_type'] = 'display_data';\n",
              "          await google.colab.output.renderOutput(dataTable, element);\n",
              "          const docLink = document.createElement('div');\n",
              "          docLink.innerHTML = docLinkHtml;\n",
              "          element.appendChild(docLink);\n",
              "        }\n",
              "      </script>\n",
              "    </div>\n",
              "  </div>\n",
              "  "
            ]
          },
          "metadata": {},
          "execution_count": 18
        }
      ],
      "source": [
        "loan_data_temp2['ELA'] = ela(loan_data_temp2)\n",
        "loan_data_temp2.head(10)"
      ]
    },
    {
      "cell_type": "code",
      "execution_count": 19,
      "metadata": {
        "id": "CkfsG6VqvNZ4",
        "outputId": "4ac8dbb3-8cb1-4429-ffe6-41516435f81a",
        "colab": {
          "base_uri": "https://localhost:8080/"
        }
      },
      "outputs": [
        {
          "output_type": "execute_result",
          "data": {
            "text/plain": [
              "Index(['Unnamed: 0', 'BidsPortfolioManager', 'BidsApi', 'BidsManual',\n",
              "       'NewCreditCustomer', 'VerificationType', 'LanguageCode', 'Age',\n",
              "       'Gender', 'Country', 'AppliedAmount', 'Amount', 'Interest',\n",
              "       'MonthlyPayment', 'UseOfLoan', 'Education', 'MaritalStatus',\n",
              "       'EmploymentStatus', 'EmploymentDurationCurrentEmployer',\n",
              "       'OccupationArea', 'HomeOwnershipType', 'IncomeTotal',\n",
              "       'ExistingLiabilities', 'LiabilitiesTotal', 'RefinanceLiabilities',\n",
              "       'DebtToIncome', 'FreeCash', 'Rating', 'Restructured',\n",
              "       'CreditScoreEsMicroL', 'PrincipalPaymentsMade',\n",
              "       'InterestAndPenaltyPaymentsMade', 'PrincipalBalance',\n",
              "       'InterestAndPenaltyBalance', 'NoOfPreviousLoansBeforeLoan',\n",
              "       'AmountOfPreviousLoansBeforeLoan', 'PreviousRepaymentsBeforeLoan',\n",
              "       'PreviousEarlyRepaymentsCountBeforeLoan', 'LoanStatus', 'LoanTenure',\n",
              "       'EMI', 'ELA'],\n",
              "      dtype='object')"
            ]
          },
          "metadata": {},
          "execution_count": 19
        }
      ],
      "source": [
        "df['ELA'] = loan_data_temp2['ELA']\n",
        "df.columns"
      ]
    },
    {
      "cell_type": "markdown",
      "metadata": {
        "id": "fI8vq14SvNZ7"
      },
      "source": [
        "III. Preferred ROI (PROI) ---> needs redefining"
      ]
    },
    {
      "cell_type": "code",
      "source": [
        "loan_data_temp3=df[[ 'Amount','AppliedAmount', 'Interest','LoanTenure','IncomeTotal','DebtToIncome']]\n",
        "loan_data_temp3.head()"
      ],
      "metadata": {
        "colab": {
          "base_uri": "https://localhost:8080/",
          "height": 206
        },
        "id": "CZDTCPGpUFfJ",
        "outputId": "a1856033-a05a-42ad-bde4-48253fee17e5"
      },
      "execution_count": 20,
      "outputs": [
        {
          "output_type": "execute_result",
          "data": {
            "text/plain": [
              "     Amount  AppliedAmount  Interest  LoanTenure  IncomeTotal  DebtToIncome\n",
              "0  115.0408       319.5582      30.0          12       3665.0           0.0\n",
              "1  140.6057       191.7349      25.0           1       3665.0           0.0\n",
              "2  319.5409       319.5582      25.0          20       3665.0           0.0\n",
              "3   57.5205       127.8233      45.0          15       3665.0           0.0\n",
              "4  319.5436       319.5582      30.0          12       3665.0           0.0"
            ],
            "text/html": [
              "\n",
              "  <div id=\"df-e3bfaa66-a66e-4034-bedc-daa54402c57c\">\n",
              "    <div class=\"colab-df-container\">\n",
              "      <div>\n",
              "<style scoped>\n",
              "    .dataframe tbody tr th:only-of-type {\n",
              "        vertical-align: middle;\n",
              "    }\n",
              "\n",
              "    .dataframe tbody tr th {\n",
              "        vertical-align: top;\n",
              "    }\n",
              "\n",
              "    .dataframe thead th {\n",
              "        text-align: right;\n",
              "    }\n",
              "</style>\n",
              "<table border=\"1\" class=\"dataframe\">\n",
              "  <thead>\n",
              "    <tr style=\"text-align: right;\">\n",
              "      <th></th>\n",
              "      <th>Amount</th>\n",
              "      <th>AppliedAmount</th>\n",
              "      <th>Interest</th>\n",
              "      <th>LoanTenure</th>\n",
              "      <th>IncomeTotal</th>\n",
              "      <th>DebtToIncome</th>\n",
              "    </tr>\n",
              "  </thead>\n",
              "  <tbody>\n",
              "    <tr>\n",
              "      <th>0</th>\n",
              "      <td>115.0408</td>\n",
              "      <td>319.5582</td>\n",
              "      <td>30.0</td>\n",
              "      <td>12</td>\n",
              "      <td>3665.0</td>\n",
              "      <td>0.0</td>\n",
              "    </tr>\n",
              "    <tr>\n",
              "      <th>1</th>\n",
              "      <td>140.6057</td>\n",
              "      <td>191.7349</td>\n",
              "      <td>25.0</td>\n",
              "      <td>1</td>\n",
              "      <td>3665.0</td>\n",
              "      <td>0.0</td>\n",
              "    </tr>\n",
              "    <tr>\n",
              "      <th>2</th>\n",
              "      <td>319.5409</td>\n",
              "      <td>319.5582</td>\n",
              "      <td>25.0</td>\n",
              "      <td>20</td>\n",
              "      <td>3665.0</td>\n",
              "      <td>0.0</td>\n",
              "    </tr>\n",
              "    <tr>\n",
              "      <th>3</th>\n",
              "      <td>57.5205</td>\n",
              "      <td>127.8233</td>\n",
              "      <td>45.0</td>\n",
              "      <td>15</td>\n",
              "      <td>3665.0</td>\n",
              "      <td>0.0</td>\n",
              "    </tr>\n",
              "    <tr>\n",
              "      <th>4</th>\n",
              "      <td>319.5436</td>\n",
              "      <td>319.5582</td>\n",
              "      <td>30.0</td>\n",
              "      <td>12</td>\n",
              "      <td>3665.0</td>\n",
              "      <td>0.0</td>\n",
              "    </tr>\n",
              "  </tbody>\n",
              "</table>\n",
              "</div>\n",
              "      <button class=\"colab-df-convert\" onclick=\"convertToInteractive('df-e3bfaa66-a66e-4034-bedc-daa54402c57c')\"\n",
              "              title=\"Convert this dataframe to an interactive table.\"\n",
              "              style=\"display:none;\">\n",
              "        \n",
              "  <svg xmlns=\"http://www.w3.org/2000/svg\" height=\"24px\"viewBox=\"0 0 24 24\"\n",
              "       width=\"24px\">\n",
              "    <path d=\"M0 0h24v24H0V0z\" fill=\"none\"/>\n",
              "    <path d=\"M18.56 5.44l.94 2.06.94-2.06 2.06-.94-2.06-.94-.94-2.06-.94 2.06-2.06.94zm-11 1L8.5 8.5l.94-2.06 2.06-.94-2.06-.94L8.5 2.5l-.94 2.06-2.06.94zm10 10l.94 2.06.94-2.06 2.06-.94-2.06-.94-.94-2.06-.94 2.06-2.06.94z\"/><path d=\"M17.41 7.96l-1.37-1.37c-.4-.4-.92-.59-1.43-.59-.52 0-1.04.2-1.43.59L10.3 9.45l-7.72 7.72c-.78.78-.78 2.05 0 2.83L4 21.41c.39.39.9.59 1.41.59.51 0 1.02-.2 1.41-.59l7.78-7.78 2.81-2.81c.8-.78.8-2.07 0-2.86zM5.41 20L4 18.59l7.72-7.72 1.47 1.35L5.41 20z\"/>\n",
              "  </svg>\n",
              "      </button>\n",
              "      \n",
              "  <style>\n",
              "    .colab-df-container {\n",
              "      display:flex;\n",
              "      flex-wrap:wrap;\n",
              "      gap: 12px;\n",
              "    }\n",
              "\n",
              "    .colab-df-convert {\n",
              "      background-color: #E8F0FE;\n",
              "      border: none;\n",
              "      border-radius: 50%;\n",
              "      cursor: pointer;\n",
              "      display: none;\n",
              "      fill: #1967D2;\n",
              "      height: 32px;\n",
              "      padding: 0 0 0 0;\n",
              "      width: 32px;\n",
              "    }\n",
              "\n",
              "    .colab-df-convert:hover {\n",
              "      background-color: #E2EBFA;\n",
              "      box-shadow: 0px 1px 2px rgba(60, 64, 67, 0.3), 0px 1px 3px 1px rgba(60, 64, 67, 0.15);\n",
              "      fill: #174EA6;\n",
              "    }\n",
              "\n",
              "    [theme=dark] .colab-df-convert {\n",
              "      background-color: #3B4455;\n",
              "      fill: #D2E3FC;\n",
              "    }\n",
              "\n",
              "    [theme=dark] .colab-df-convert:hover {\n",
              "      background-color: #434B5C;\n",
              "      box-shadow: 0px 1px 3px 1px rgba(0, 0, 0, 0.15);\n",
              "      filter: drop-shadow(0px 1px 2px rgba(0, 0, 0, 0.3));\n",
              "      fill: #FFFFFF;\n",
              "    }\n",
              "  </style>\n",
              "\n",
              "      <script>\n",
              "        const buttonEl =\n",
              "          document.querySelector('#df-e3bfaa66-a66e-4034-bedc-daa54402c57c button.colab-df-convert');\n",
              "        buttonEl.style.display =\n",
              "          google.colab.kernel.accessAllowed ? 'block' : 'none';\n",
              "\n",
              "        async function convertToInteractive(key) {\n",
              "          const element = document.querySelector('#df-e3bfaa66-a66e-4034-bedc-daa54402c57c');\n",
              "          const dataTable =\n",
              "            await google.colab.kernel.invokeFunction('convertToInteractive',\n",
              "                                                     [key], {});\n",
              "          if (!dataTable) return;\n",
              "\n",
              "          const docLinkHtml = 'Like what you see? Visit the ' +\n",
              "            '<a target=\"_blank\" href=https://colab.research.google.com/notebooks/data_table.ipynb>data table notebook</a>'\n",
              "            + ' to learn more about interactive tables.';\n",
              "          element.innerHTML = '';\n",
              "          dataTable['output_type'] = 'display_data';\n",
              "          await google.colab.output.renderOutput(dataTable, element);\n",
              "          const docLink = document.createElement('div');\n",
              "          docLink.innerHTML = docLinkHtml;\n",
              "          element.appendChild(docLink);\n",
              "        }\n",
              "      </script>\n",
              "    </div>\n",
              "  </div>\n",
              "  "
            ]
          },
          "metadata": {},
          "execution_count": 20
        }
      ]
    },
    {
      "cell_type": "code",
      "source": [
        "loan_data_temp3['InterestAmount'] = (loan_data_temp3['Amount']*(loan_data_temp3['Interest']/100)*(loan_data_temp3['LoanTenure']/12))\n",
        "loan_data_temp3['TotalAmount'] = (loan_data_temp3['InterestAmount'] + loan_data_temp3['Amount'])\n",
        "loan_data_temp3['ROI'] = (loan_data_temp3['InterestAmount'] / loan_data_temp3['Amount'])*100\n",
        "df['ROI'] = loan_data_temp3['ROI']"
      ],
      "metadata": {
        "id": "cjzPZDNMUHut"
      },
      "execution_count": 21,
      "outputs": []
    },
    {
      "cell_type": "code",
      "execution_count": 22,
      "metadata": {
        "id": "3bmTZPU5vNZ9"
      },
      "outputs": [],
      "source": [
        "\n",
        "def PROI(df):\n",
        "    df['PROI'] = df['ROI'].median()      # Setting PROI\n",
        "\n",
        "    for i in range(df.shape[0]):\n",
        "        # Check out LoanTenure\n",
        "        if df['LoanTenure'].loc[i] <= 19:\n",
        "            df['PROI'].loc[i] = df['PROI'].loc[i] - 5\n",
        "        elif df['LoanTenure'].loc[i] > 25:\n",
        "            df['PROI'].loc[i] = df['PROI'].loc[i] + 5\n",
        "        \n",
        "        # Check out AppliedAmount\n",
        "        if (df['AppliedAmount'].loc[i] <= 1175) & (df['AppliedAmount'].loc[i] >= 850):\n",
        "            df['PROI'].loc[i] = df['PROI'].loc[i] - 5\n",
        "        elif df['AppliedAmount'].loc[i] > 2000:\n",
        "            df['PROI'].loc[i] = df['PROI'].loc[i] + 5\n",
        "\n",
        "        # Check out IncomeTotal\n",
        "        if df['IncomeTotal'].loc[i] <= 1000:\n",
        "            df['PROI'].loc[i] = df['PROI'].loc[i] - 5\n",
        "\n",
        "        # Check out DebtToIncome\n",
        "        if df['DebtToIncome'].loc[i] == 0:\n",
        "            df['PROI'].loc[i] = df['PROI'].loc[i] - 5\n",
        "        else:\n",
        "            df['PROI'].loc[i] = df['PROI'].loc[i] + 5\n",
        "\n",
        "    return df['PROI']"
      ]
    },
    {
      "cell_type": "code",
      "execution_count": 23,
      "metadata": {
        "id": "Ko851IpjvNZ-"
      },
      "outputs": [],
      "source": [
        "loan_data_temp3['PROI'] = PROI(loan_data_temp3)\n",
        "df['PROI'] = loan_data_temp3['PROI']"
      ]
    },
    {
      "cell_type": "markdown",
      "metadata": {
        "id": "2ogmkUq4vNZ_"
      },
      "source": [
        "VI. LoanStatus"
      ]
    },
    {
      "cell_type": "code",
      "execution_count": 24,
      "metadata": {
        "id": "ckGldDkbvNZ_"
      },
      "outputs": [],
      "source": [
        "df['LoanStatus'] = np.where(df['LoanStatus']=='NotDefault', 0, 1)"
      ]
    },
    {
      "cell_type": "code",
      "source": [
        "df.columns"
      ],
      "metadata": {
        "colab": {
          "base_uri": "https://localhost:8080/"
        },
        "id": "duSzey1HVhm5",
        "outputId": "abcc7eec-dfcb-491e-ba89-52067177e0e1"
      },
      "execution_count": 25,
      "outputs": [
        {
          "output_type": "execute_result",
          "data": {
            "text/plain": [
              "Index(['Unnamed: 0', 'BidsPortfolioManager', 'BidsApi', 'BidsManual',\n",
              "       'NewCreditCustomer', 'VerificationType', 'LanguageCode', 'Age',\n",
              "       'Gender', 'Country', 'AppliedAmount', 'Amount', 'Interest',\n",
              "       'MonthlyPayment', 'UseOfLoan', 'Education', 'MaritalStatus',\n",
              "       'EmploymentStatus', 'EmploymentDurationCurrentEmployer',\n",
              "       'OccupationArea', 'HomeOwnershipType', 'IncomeTotal',\n",
              "       'ExistingLiabilities', 'LiabilitiesTotal', 'RefinanceLiabilities',\n",
              "       'DebtToIncome', 'FreeCash', 'Rating', 'Restructured',\n",
              "       'CreditScoreEsMicroL', 'PrincipalPaymentsMade',\n",
              "       'InterestAndPenaltyPaymentsMade', 'PrincipalBalance',\n",
              "       'InterestAndPenaltyBalance', 'NoOfPreviousLoansBeforeLoan',\n",
              "       'AmountOfPreviousLoansBeforeLoan', 'PreviousRepaymentsBeforeLoan',\n",
              "       'PreviousEarlyRepaymentsCountBeforeLoan', 'LoanStatus', 'LoanTenure',\n",
              "       'EMI', 'ELA', 'ROI', 'PROI'],\n",
              "      dtype='object')"
            ]
          },
          "metadata": {},
          "execution_count": 25
        }
      ]
    },
    {
      "cell_type": "code",
      "source": [
        "# Other Unwanted Columns\n",
        "\n",
        "df.drop(columns=['Unnamed: 0','PreviousEarlyRepaymentsCountBeforeLoan','LoanTenure','LiabilitiesTotal','PrincipalBalance','InterestAndPenaltyBalance'], inplace = True)"
      ],
      "metadata": {
        "id": "mQdCe0N0fDzv"
      },
      "execution_count": 26,
      "outputs": []
    },
    {
      "cell_type": "code",
      "source": [
        "# df= df.drop(columns=['Amount','PreviousEarlyRepaymentsCountBeforeLoan','NoOfPreviousLoansBeforeLoan','LoanTenure','ROI'\n",
        "#                  'LiabilitiesTotal','PrincipalBalance','InterestAndPenaltyBalance','AmountOfPreviousLoansBeforeLoan'])"
      ],
      "metadata": {
        "id": "qcIuHt4EjsNt"
      },
      "execution_count": 27,
      "outputs": []
    },
    {
      "cell_type": "code",
      "source": [
        "df.shape"
      ],
      "metadata": {
        "colab": {
          "base_uri": "https://localhost:8080/"
        },
        "id": "kJaKUe-tZ9SQ",
        "outputId": "da491022-e122-4a73-9841-8e1f3e929956"
      },
      "execution_count": 28,
      "outputs": [
        {
          "output_type": "execute_result",
          "data": {
            "text/plain": [
              "(77394, 38)"
            ]
          },
          "metadata": {},
          "execution_count": 28
        }
      ]
    },
    {
      "cell_type": "markdown",
      "source": [
        "**1. Imputing both the Categorical and Numerical Features having Missing Values.**"
      ],
      "metadata": {
        "id": "Lx8uKcqBowFr"
      }
    },
    {
      "cell_type": "code",
      "source": [
        "#Categorical Features in Dataset \n",
        "catg_features = [col_name for col_name in df.columns if df[col_name].dtype == 'O']\n",
        "print(\"Number of Categorical Features:\",format(len(catg_features )))\n",
        "print(\"Categorical Features: {}\",catg_features )"
      ],
      "metadata": {
        "id": "al1JnghZoSMJ",
        "colab": {
          "base_uri": "https://localhost:8080/"
        },
        "outputId": "74d4fcca-512f-4c25-843c-75c4eb781f84"
      },
      "execution_count": 29,
      "outputs": [
        {
          "output_type": "stream",
          "name": "stdout",
          "text": [
            "Number of Categorical Features: 13\n",
            "Categorical Features: {} ['VerificationType', 'LanguageCode', 'Gender', 'Country', 'UseOfLoan', 'Education', 'MaritalStatus', 'EmploymentStatus', 'EmploymentDurationCurrentEmployer', 'OccupationArea', 'HomeOwnershipType', 'Rating', 'CreditScoreEsMicroL']\n"
          ]
        }
      ]
    },
    {
      "cell_type": "code",
      "source": [
        "#Imputing the missing values in categorical features using the most frequent value which is mode\n",
        "catg_features_with_null = [feature for feature in catg_features if df[feature].isnull().sum()]\n",
        "for each_feature in catg_features_with_null:\n",
        "  mode_val = df[each_feature].mode()[0]\n",
        "  df[each_feature].fillna(mode_val,inplace=True)"
      ],
      "metadata": {
        "id": "YZeiHjnhogqn"
      },
      "execution_count": 30,
      "outputs": []
    },
    {
      "cell_type": "code",
      "source": [
        "#Numerical Features in Dataset\n",
        "num_features = [col_name for col_name in df.columns if df[col_name].dtype != 'O']\n",
        "print(\"Number of Numerical Features: \",format(len(num_features)))\n",
        "print(\"Numerical Features: {}\",num_features)"
      ],
      "metadata": {
        "id": "4OfSlQcCoW7s",
        "colab": {
          "base_uri": "https://localhost:8080/"
        },
        "outputId": "8a889cb5-0152-4074-cbc1-4da4917c42b8"
      },
      "execution_count": 31,
      "outputs": [
        {
          "output_type": "stream",
          "name": "stdout",
          "text": [
            "Number of Numerical Features:  25\n",
            "Numerical Features: {} ['BidsPortfolioManager', 'BidsApi', 'BidsManual', 'NewCreditCustomer', 'Age', 'AppliedAmount', 'Amount', 'Interest', 'MonthlyPayment', 'IncomeTotal', 'ExistingLiabilities', 'RefinanceLiabilities', 'DebtToIncome', 'FreeCash', 'Restructured', 'PrincipalPaymentsMade', 'InterestAndPenaltyPaymentsMade', 'NoOfPreviousLoansBeforeLoan', 'AmountOfPreviousLoansBeforeLoan', 'PreviousRepaymentsBeforeLoan', 'LoanStatus', 'EMI', 'ELA', 'ROI', 'PROI']\n"
          ]
        }
      ]
    },
    {
      "cell_type": "code",
      "source": [
        "#Impute missing values in numerical features using mean\n",
        "num_features_with_null = [feature for feature in num_features if df[feature].isnull().sum()]\n",
        "for feature in num_features_with_null:\n",
        "   mean_value = df[feature].mean()\n",
        "   df[feature].fillna(mean_value,inplace=True)"
      ],
      "metadata": {
        "id": "HfS0V1VVoidw"
      },
      "execution_count": 32,
      "outputs": []
    },
    {
      "cell_type": "markdown",
      "metadata": {
        "id": "0PUl1b9WvNaA"
      },
      "source": [
        "#### **2. Handling Outliers:**"
      ]
    },
    {
      "cell_type": "code",
      "execution_count": 33,
      "metadata": {
        "id": "4XTrXqSAvNaA"
      },
      "outputs": [],
      "source": [
        "#Let's compute IQR for each numerical feature\n",
        "\n",
        "df_IQR = df[df.select_dtypes([float, int]).columns].quantile(.75) - df[df.select_dtypes([float, int]).columns].quantile(.25)\n",
        "\n",
        "# Let's compute maximum and minimum limits\n",
        "df_Max =  df[df.select_dtypes([float, int]).columns].quantile(.75) + (1.5*df_IQR)\n",
        "df_Min =  df[df.select_dtypes([float, int]).columns].quantile(.25) - (1.5*df_IQR)"
      ]
    },
    {
      "cell_type": "code",
      "execution_count": 34,
      "metadata": {
        "id": "iuX6elQpvNaB"
      },
      "outputs": [],
      "source": [
        "#Loop for replacing outliers above upper bound with the upper bound value:\n",
        "for column in df.select_dtypes([float, int]).columns :\n",
        "  col_IQR = df[column].quantile(.75) - df[column].quantile(.25)\n",
        "  col_Max =  df[column].quantile(.75) + (1.5*col_IQR)\n",
        "  df[column][df[column] > col_Max] =  col_Max  "
      ]
    },
    {
      "cell_type": "code",
      "execution_count": 35,
      "metadata": {
        "id": "bo3bqumFvNaC"
      },
      "outputs": [],
      "source": [
        "#Loop for replacing outliers under lower bound with the lower bound value:\n",
        "for column in df.select_dtypes([float, int]).columns :\n",
        "    col_IQR = df[column].quantile(.75) - df[column].quantile(.25)\n",
        "    col_Min =  df[column].quantile(.25) - (1.5*col_IQR)\n",
        "    df[column][df[column] < col_Min] =  col_Min"
      ]
    },
    {
      "cell_type": "code",
      "source": [
        "df['PreviousRepaymentsBeforeLoan']=df['PreviousRepaymentsBeforeLoan'].round(decimals = 2)"
      ],
      "metadata": {
        "id": "Gru0ZBLOnqmX"
      },
      "execution_count": 36,
      "outputs": []
    },
    {
      "cell_type": "code",
      "source": [
        "df['NewCreditCustomer'] = df['NewCreditCustomer'].replace({True: 'True', False: 'False'})   \n",
        "df['Restructured'] = df['Restructured'].replace({True: 'True', False: 'False'})   "
      ],
      "metadata": {
        "id": "yUInfYGkNx6W"
      },
      "execution_count": 37,
      "outputs": []
    },
    {
      "cell_type": "code",
      "source": [
        "df.dtypes"
      ],
      "metadata": {
        "colab": {
          "base_uri": "https://localhost:8080/"
        },
        "id": "y9MK04sLOMA-",
        "outputId": "f26c466a-2706-4f0d-9003-f9911e7c1da7"
      },
      "execution_count": 38,
      "outputs": [
        {
          "output_type": "execute_result",
          "data": {
            "text/plain": [
              "BidsPortfolioManager                 float64\n",
              "BidsApi                              float64\n",
              "BidsManual                           float64\n",
              "NewCreditCustomer                     object\n",
              "VerificationType                      object\n",
              "LanguageCode                          object\n",
              "Age                                    int64\n",
              "Gender                                object\n",
              "Country                               object\n",
              "AppliedAmount                        float64\n",
              "Amount                               float64\n",
              "Interest                             float64\n",
              "MonthlyPayment                       float64\n",
              "UseOfLoan                             object\n",
              "Education                             object\n",
              "MaritalStatus                         object\n",
              "EmploymentStatus                      object\n",
              "EmploymentDurationCurrentEmployer     object\n",
              "OccupationArea                        object\n",
              "HomeOwnershipType                     object\n",
              "IncomeTotal                          float64\n",
              "ExistingLiabilities                    int64\n",
              "RefinanceLiabilities                   int64\n",
              "DebtToIncome                         float64\n",
              "FreeCash                             float64\n",
              "Rating                                object\n",
              "Restructured                          object\n",
              "CreditScoreEsMicroL                   object\n",
              "PrincipalPaymentsMade                float64\n",
              "InterestAndPenaltyPaymentsMade       float64\n",
              "NoOfPreviousLoansBeforeLoan          float64\n",
              "AmountOfPreviousLoansBeforeLoan      float64\n",
              "PreviousRepaymentsBeforeLoan         float64\n",
              "LoanStatus                             int64\n",
              "EMI                                  float64\n",
              "ELA                                  float64\n",
              "ROI                                  float64\n",
              "PROI                                 float64\n",
              "dtype: object"
            ]
          },
          "metadata": {},
          "execution_count": 38
        }
      ]
    },
    {
      "cell_type": "markdown",
      "metadata": {
        "id": "UYttMp_3vNaD"
      },
      "source": [
        "#### 3. **X, y split**"
      ]
    },
    {
      "cell_type": "code",
      "execution_count": 39,
      "metadata": {
        "id": "xJsfAqMwvNaD"
      },
      "outputs": [],
      "source": [
        "# Defining Independent variables Dataset\n",
        "X = df.drop(['EMI', 'ELA', 'PROI', 'LoanStatus'], axis=1)\n",
        "\n",
        "# Assigning target variables for both Models \n",
        "y = df[['LoanStatus', 'EMI', 'ELA', 'PROI']]"
      ]
    },
    {
      "cell_type": "markdown",
      "metadata": {
        "id": "UHlqTpOm8emr"
      },
      "source": [
        "#### **4. Feature Selection**"
      ]
    },
    {
      "cell_type": "code",
      "execution_count": 40,
      "metadata": {
        "id": "jsrYu_cE8ems"
      },
      "outputs": [],
      "source": [
        "# A function to select highly correlated features.\n",
        "def Correlation(dataset, threshold): \n",
        "    correltated_features = set() # as a container of highly correlated features\n",
        "    correlation_matrix = dataset.corr()\n",
        "    for i in range(len(correlation_matrix.columns)):\n",
        "        for j in range(i):\n",
        "            if abs(correlation_matrix.iloc[i, j]) > threshold:\n",
        "                column_name = correlation_matrix.columns[i]\n",
        "                correltated_features.add(column_name)\n",
        "    return correltated_features"
      ]
    },
    {
      "cell_type": "code",
      "execution_count": 41,
      "metadata": {
        "colab": {
          "base_uri": "https://localhost:8080/"
        },
        "id": "8NRqErV48ems",
        "outputId": "01fad89f-8d69-4e6c-8285-e0394839e45c"
      },
      "outputs": [
        {
          "output_type": "execute_result",
          "data": {
            "text/plain": [
              "{'Amount', 'AmountOfPreviousLoansBeforeLoan', 'ROI'}"
            ]
          },
          "metadata": {},
          "execution_count": 41
        }
      ],
      "source": [
        "# let's selected features with a correlation factor > 0.8\n",
        "Correlation(X, 0.8)"
      ]
    },
    {
      "cell_type": "code",
      "execution_count": 42,
      "metadata": {
        "id": "TdKUtEnr8ems"
      },
      "outputs": [],
      "source": [
        "# Now we can drop these features from our dataset\n",
        "X.drop(columns= [ 'ROI', 'Amount', 'AmountOfPreviousLoansBeforeLoan', 'NoOfPreviousLoansBeforeLoan'], inplace = True )"
      ]
    },
    {
      "cell_type": "code",
      "source": [
        "print(X.shape)\n",
        "X.columns"
      ],
      "metadata": {
        "colab": {
          "base_uri": "https://localhost:8080/"
        },
        "id": "NXGbWowNaAWK",
        "outputId": "35e43cf0-7022-4d42-d877-67448684c46c"
      },
      "execution_count": 43,
      "outputs": [
        {
          "output_type": "stream",
          "name": "stdout",
          "text": [
            "(77394, 30)\n"
          ]
        },
        {
          "output_type": "execute_result",
          "data": {
            "text/plain": [
              "Index(['BidsPortfolioManager', 'BidsApi', 'BidsManual', 'NewCreditCustomer',\n",
              "       'VerificationType', 'LanguageCode', 'Age', 'Gender', 'Country',\n",
              "       'AppliedAmount', 'Interest', 'MonthlyPayment', 'UseOfLoan', 'Education',\n",
              "       'MaritalStatus', 'EmploymentStatus',\n",
              "       'EmploymentDurationCurrentEmployer', 'OccupationArea',\n",
              "       'HomeOwnershipType', 'IncomeTotal', 'ExistingLiabilities',\n",
              "       'RefinanceLiabilities', 'DebtToIncome', 'FreeCash', 'Rating',\n",
              "       'Restructured', 'CreditScoreEsMicroL', 'PrincipalPaymentsMade',\n",
              "       'InterestAndPenaltyPaymentsMade', 'PreviousRepaymentsBeforeLoan'],\n",
              "      dtype='object')"
            ]
          },
          "metadata": {},
          "execution_count": 43
        }
      ]
    },
    {
      "cell_type": "markdown",
      "metadata": {
        "id": "hkFA7FkRvNaN"
      },
      "source": [
        "#### **5.Feature Encoding**"
      ]
    },
    {
      "cell_type": "code",
      "execution_count": 44,
      "metadata": {
        "id": "TdLpvRqrvNaP"
      },
      "outputs": [],
      "source": [
        "# X = pd.get_dummies(X, drop_first=True)"
      ]
    },
    {
      "cell_type": "markdown",
      "metadata": {
        "id": "_wR9izH0vNaQ"
      },
      "source": [
        "---"
      ]
    },
    {
      "cell_type": "code",
      "source": [
        "X.shape"
      ],
      "metadata": {
        "colab": {
          "base_uri": "https://localhost:8080/"
        },
        "id": "w4M40qol2a-h",
        "outputId": "c24a6bcf-f362-444b-e070-198d825e5197"
      },
      "execution_count": 45,
      "outputs": [
        {
          "output_type": "execute_result",
          "data": {
            "text/plain": [
              "(77394, 30)"
            ]
          },
          "metadata": {},
          "execution_count": 45
        }
      ]
    },
    {
      "cell_type": "markdown",
      "metadata": {
        "id": "FOG5UHmpvNaQ"
      },
      "source": [
        "#### **6. train, test split**"
      ]
    },
    {
      "cell_type": "code",
      "execution_count": 46,
      "metadata": {
        "id": "gpaFXACMvNaR"
      },
      "outputs": [],
      "source": [
        "X_train, X_test, y_train, y_test = train_test_split(X, y, test_size=0.25, random_state=0)\n",
        "\n",
        "# Separating Target values for classifications and regression problems\n",
        "y_class_train = y_train.iloc[:,0]\n",
        "y_reg_train = y_train.iloc[:,1:]\n",
        "\n",
        "y_class_test = y_test.iloc[:,0]\n",
        "y_reg_test = y_test.iloc[:,1:]"
      ]
    },
    {
      "cell_type": "code",
      "source": [
        "df.to_csv('df_kk.csv')"
      ],
      "metadata": {
        "id": "bpRldKve9FZt"
      },
      "execution_count": 47,
      "outputs": []
    },
    {
      "cell_type": "code",
      "source": [
        "input=X_test.iloc[0].values"
      ],
      "metadata": {
        "id": "ZYPQ82w2-H0_"
      },
      "execution_count": 48,
      "outputs": []
    },
    {
      "cell_type": "code",
      "source": [
        "input=input.reshape(1,-1)"
      ],
      "metadata": {
        "id": "b0YTARTp-biS"
      },
      "execution_count": 49,
      "outputs": []
    },
    {
      "cell_type": "code",
      "source": [
        "input"
      ],
      "metadata": {
        "colab": {
          "base_uri": "https://localhost:8080/"
        },
        "id": "zXL8yU1z9U8u",
        "outputId": "bb330bc9-9388-4d19-f3ec-ef4f51646d50"
      },
      "execution_count": 50,
      "outputs": [
        {
          "output_type": "execute_result",
          "data": {
            "text/plain": [
              "array([[1176.0, 0.0, 263.0, 'True', 'Income and expenses verified',\n",
              "        'Finnish', 59, 'Male', 'FI', 2125.0, 59.73, 118.92, 'Not Set',\n",
              "        'Primary education', 'Not Specified', 'Not present', 'Retiree',\n",
              "        'Not present', 'Tenant,pre-furnished property', 1600.0, 0, 0,\n",
              "        0.0, 0.0, 'HR', 'False', 'M', 0.0, 0.0, 861.14]], dtype=object)"
            ]
          },
          "metadata": {},
          "execution_count": 50
        }
      ]
    },
    {
      "cell_type": "code",
      "source": [
        "# from sklearn.impute import SimpleImputer\n",
        "\n",
        "# numerical processing pipeline\n",
        "numeric_processor=Pipeline(\n",
        "    steps=[('stdscaler', StandardScaler(with_mean=False))]\n",
        "\n",
        ")\n",
        "\n",
        "numeric_processor"
      ],
      "metadata": {
        "colab": {
          "base_uri": "https://localhost:8080/"
        },
        "id": "lPxOqh3zFy2V",
        "outputId": "218615c1-911f-4886-a942-7126d058c44f"
      },
      "execution_count": 51,
      "outputs": [
        {
          "output_type": "execute_result",
          "data": {
            "text/plain": [
              "Pipeline(steps=[('stdscaler', StandardScaler(with_mean=False))])"
            ]
          },
          "metadata": {},
          "execution_count": 51
        }
      ]
    },
    {
      "cell_type": "code",
      "source": [
        "# col_tra_1=ColumnTransformer([\n",
        "# ('trf1',SimpleImputer(strategy='constant'),[0,1])\n",
        "# ],remainder='passthrough')\n",
        "\n",
        "# col_tra_2=ColumnTransformer([\n",
        "# ('ohe1',OneHotEncoder(sparse=False, handle_unknown='ignore'),[0,3])\n",
        "# ],remainder='passthrough')"
      ],
      "metadata": {
        "id": "NNP94-lYk57o"
      },
      "execution_count": 52,
      "outputs": []
    },
    {
      "cell_type": "code",
      "source": [
        "from sklearn.preprocessing import OrdinalEncoder\n",
        "\n",
        "# categorical procesing pipeline\n",
        "categorical_processor=Pipeline(\n",
        "    steps=[(\"ord_enc\",OrdinalEncoder(handle_unknown='use_encoded_value', unknown_value=-1)),\n",
        "           ('stdscaler', StandardScaler(with_mean=False))]\n",
        ")\n",
        "\n",
        "categorical_processor"
      ],
      "metadata": {
        "colab": {
          "base_uri": "https://localhost:8080/"
        },
        "id": "FQzItG5KGHPh",
        "outputId": "f45f67cb-7081-4eb3-d7bb-657d55d50802"
      },
      "execution_count": 53,
      "outputs": [
        {
          "output_type": "execute_result",
          "data": {
            "text/plain": [
              "Pipeline(steps=[('ord_enc',\n",
              "                 OrdinalEncoder(handle_unknown='use_encoded_value',\n",
              "                                unknown_value=-1)),\n",
              "                ('stdscaler', StandardScaler(with_mean=False))])"
            ]
          },
          "metadata": {},
          "execution_count": 53
        }
      ]
    },
    {
      "cell_type": "code",
      "source": [
        "# combine processing technqiues\n",
        "from sklearn.compose import ColumnTransformer\n",
        "\n",
        "preprocessor=ColumnTransformer(\n",
        "    [(\"categorical\",categorical_processor,[3,4, 5, 7, 8, 12, 13, 14,15,16,17,18,24,25,26]),\n",
        "    (\"numerical\",numeric_processor,[0,1,2,6,9,10,11,19,20,21,22,23,27,28,29])]\n",
        ")"
      ],
      "metadata": {
        "id": "5icTP265FwaK"
      },
      "execution_count": 54,
      "outputs": []
    },
    {
      "cell_type": "markdown",
      "source": [
        "BidsPortfolioManager 0\n",
        "BidsApi 1\n",
        "BidsManual 2\n",
        "NewCreditCustomer 3\n",
        "VerificationType 4\n",
        "LanguageCode 5\n",
        "Age 6\n",
        "Gender 7\n",
        "Country 8\n",
        "AppliedAmount 9\n",
        "Interest 10\n",
        "MonthlyPayment 11\n",
        "UseOfLoan 12\n",
        "Education 13\n",
        "MaritalStatus 14\n",
        "EmploymentStatus 15\n",
        "EmploymentDurationCurrentEmployer 16\n",
        "OccupationArea 17\n",
        "HomeOwnershipType 18\n",
        "IncomeTotal 19\n",
        "ExistingLiabilities 20\n",
        "RefinanceLiabilities 21\n",
        "DebtToIncome 22\n",
        "FreeCash 23\n",
        "Rating 24\n",
        "Restructured 25\n",
        "CreditScoreEsMicroL 26\n",
        "PrincipalPaymentsMade 27\n",
        "InterestAndPenaltyPaymentsMade 28\n",
        "PreviousRepaymentsBeforeLoan 29"
      ],
      "metadata": {
        "id": "3nK8-BIcFfDm"
      }
    },
    {
      "cell_type": "code",
      "source": [
        "X.dtypes"
      ],
      "metadata": {
        "id": "xJiQLZNGFerM",
        "colab": {
          "base_uri": "https://localhost:8080/"
        },
        "outputId": "a8045e2a-20ea-44c1-a07b-26fecb42797a"
      },
      "execution_count": 55,
      "outputs": [
        {
          "output_type": "execute_result",
          "data": {
            "text/plain": [
              "BidsPortfolioManager                 float64\n",
              "BidsApi                              float64\n",
              "BidsManual                           float64\n",
              "NewCreditCustomer                     object\n",
              "VerificationType                      object\n",
              "LanguageCode                          object\n",
              "Age                                    int64\n",
              "Gender                                object\n",
              "Country                               object\n",
              "AppliedAmount                        float64\n",
              "Interest                             float64\n",
              "MonthlyPayment                       float64\n",
              "UseOfLoan                             object\n",
              "Education                             object\n",
              "MaritalStatus                         object\n",
              "EmploymentStatus                      object\n",
              "EmploymentDurationCurrentEmployer     object\n",
              "OccupationArea                        object\n",
              "HomeOwnershipType                     object\n",
              "IncomeTotal                          float64\n",
              "ExistingLiabilities                    int64\n",
              "RefinanceLiabilities                   int64\n",
              "DebtToIncome                         float64\n",
              "FreeCash                             float64\n",
              "Rating                                object\n",
              "Restructured                          object\n",
              "CreditScoreEsMicroL                   object\n",
              "PrincipalPaymentsMade                float64\n",
              "InterestAndPenaltyPaymentsMade       float64\n",
              "PreviousRepaymentsBeforeLoan         float64\n",
              "dtype: object"
            ]
          },
          "metadata": {},
          "execution_count": 55
        }
      ]
    },
    {
      "cell_type": "code",
      "source": [
        "X.columns"
      ],
      "metadata": {
        "colab": {
          "base_uri": "https://localhost:8080/"
        },
        "id": "yTOWiqsQ65Se",
        "outputId": "431025a9-9777-4159-ae11-0e0ba25b9e7d"
      },
      "execution_count": 56,
      "outputs": [
        {
          "output_type": "execute_result",
          "data": {
            "text/plain": [
              "Index(['BidsPortfolioManager', 'BidsApi', 'BidsManual', 'NewCreditCustomer',\n",
              "       'VerificationType', 'LanguageCode', 'Age', 'Gender', 'Country',\n",
              "       'AppliedAmount', 'Interest', 'MonthlyPayment', 'UseOfLoan', 'Education',\n",
              "       'MaritalStatus', 'EmploymentStatus',\n",
              "       'EmploymentDurationCurrentEmployer', 'OccupationArea',\n",
              "       'HomeOwnershipType', 'IncomeTotal', 'ExistingLiabilities',\n",
              "       'RefinanceLiabilities', 'DebtToIncome', 'FreeCash', 'Rating',\n",
              "       'Restructured', 'CreditScoreEsMicroL', 'PrincipalPaymentsMade',\n",
              "       'InterestAndPenaltyPaymentsMade', 'PreviousRepaymentsBeforeLoan'],\n",
              "      dtype='object')"
            ]
          },
          "metadata": {},
          "execution_count": 56
        }
      ]
    },
    {
      "cell_type": "code",
      "source": [
        "# combine processing technqiues\n",
        "# from sklearn.compose import ColumnTransformer\n",
        "\n",
        "# preprocessor=ColumnTransformer(\n",
        "#     [(\"categorical\",categorical_processor,[\"VerificationType\", \"LanguageCode\", \"Gender\", \"Country\", \"UseOfLoan\", \"Education\", \"MaritalStatus\",\n",
        "#                                            \"EmploymentStatus\", \"EmploymentDurationCurrentEmployer\",\"OccupationArea\", \"HomeOwnershipType\",\n",
        "#                                            \"Rating\", \"CreditScoreEsMicroL\"]),\n",
        "#     (\"numerical\",numeric_processor,[\"BidsPortfolioManager\", \"BidsApi\", \"BidsManual\", \"NewCreditCustomer\", \"Age\", \"AppliedAmount\",\n",
        "#                                     \"Interest\", \"MonthlyPayment\", \"IncomeTotal\", \"ExistingLiabilities\", \"RefinanceLiabilities\",\n",
        "#                                     \"DebtToIncome\", \"FreeCash\", \"Restructured\", \"PrincipalPaymentsMade\", \"InterestAndPenaltyPaymentsMade\",\n",
        "#                                     \"PreviousRepaymentsBeforeLoan\"])]\n",
        "# )"
      ],
      "metadata": {
        "id": "MY9de0n5Gpqn"
      },
      "execution_count": 57,
      "outputs": []
    },
    {
      "cell_type": "code",
      "source": [
        "catg_features = [col_name for col_name in X.columns if X[col_name].dtype == 'O']\n",
        "print(\"Number of Categorical Features: \",format(len(catg_features)))\n",
        "print(\"Categorical Features: {}\",catg_features)"
      ],
      "metadata": {
        "colab": {
          "base_uri": "https://localhost:8080/"
        },
        "id": "ut6CFDrhRsrS",
        "outputId": "0bd34414-6106-480c-c8d1-67d122c77d44"
      },
      "execution_count": 58,
      "outputs": [
        {
          "output_type": "stream",
          "name": "stdout",
          "text": [
            "Number of Categorical Features:  15\n",
            "Categorical Features: {} ['NewCreditCustomer', 'VerificationType', 'LanguageCode', 'Gender', 'Country', 'UseOfLoan', 'Education', 'MaritalStatus', 'EmploymentStatus', 'EmploymentDurationCurrentEmployer', 'OccupationArea', 'HomeOwnershipType', 'Rating', 'Restructured', 'CreditScoreEsMicroL']\n"
          ]
        }
      ]
    },
    {
      "cell_type": "code",
      "source": [
        "num_features = [col_name for col_name in X.columns if X[col_name].dtype != 'O']\n",
        "print(\"Number of Numerical Features: \",format(len(num_features)))\n",
        "print(\"Numerical Features: {}\",num_features)"
      ],
      "metadata": {
        "colab": {
          "base_uri": "https://localhost:8080/"
        },
        "id": "dnbDuAdeIkmr",
        "outputId": "bf7f175a-3739-4b8e-9eca-40d7741f778e"
      },
      "execution_count": 59,
      "outputs": [
        {
          "output_type": "stream",
          "name": "stdout",
          "text": [
            "Number of Numerical Features:  15\n",
            "Numerical Features: {} ['BidsPortfolioManager', 'BidsApi', 'BidsManual', 'Age', 'AppliedAmount', 'Interest', 'MonthlyPayment', 'IncomeTotal', 'ExistingLiabilities', 'RefinanceLiabilities', 'DebtToIncome', 'FreeCash', 'PrincipalPaymentsMade', 'InterestAndPenaltyPaymentsMade', 'PreviousRepaymentsBeforeLoan']\n"
          ]
        }
      ]
    },
    {
      "cell_type": "markdown",
      "metadata": {
        "id": "5Xg1CepJvNaS"
      },
      "source": [
        "---"
      ]
    },
    {
      "cell_type": "code",
      "source": [
        "from sklearn.pipeline import make_pipeline\n",
        "from sklearn.svm import SVC\n",
        "from sklearn.linear_model import Ridge"
      ],
      "metadata": {
        "id": "Av3OArSyN2aW"
      },
      "execution_count": 60,
      "outputs": []
    },
    {
      "cell_type": "code",
      "source": [
        "pca = PCA(n_components=30)\n",
        "svc_classifier = SVC(kernel='rbf')\n",
        "regressor = Ridge(random_state=0)\n"
      ],
      "metadata": {
        "id": "iCmUHFzrU7o0"
      },
      "execution_count": 61,
      "outputs": []
    },
    {
      "cell_type": "markdown",
      "metadata": {
        "id": "iujoxFmXvNaT"
      },
      "source": [
        "## Classification Pipeline"
      ]
    },
    {
      "cell_type": "code",
      "execution_count": 62,
      "metadata": {
        "id": "QJ-Cz8_dvNaT"
      },
      "outputs": [],
      "source": [
        "# Create Pipeline\n",
        "pipeline_class = make_pipeline(preprocessor,pca,svc_classifier)\n",
        "\n",
        "# fit and transform the pipeline\n",
        "pipeline_class.fit(X_train, y_class_train)\n",
        "\n",
        "# predict using the pipeline\n",
        "pred_class = pipeline_class.predict(X_test)"
      ]
    },
    {
      "cell_type": "code",
      "execution_count": 63,
      "metadata": {
        "id": "ClxyTNEfvNaU",
        "outputId": "d9fe3a37-6af4-48ac-f442-3c234ffa167c",
        "colab": {
          "base_uri": "https://localhost:8080/"
        }
      },
      "outputs": [
        {
          "output_type": "stream",
          "name": "stdout",
          "text": [
            "Support Vector Classifier:\n",
            "\n",
            "Accuracy score:\n",
            " 84.42 %\n",
            "****************************************\n",
            "\n",
            "Confusion Matrix:\n",
            " [[7289 1381]\n",
            " [1634 9045]]\n",
            "****************************************\n",
            "\n",
            "Classification Report:\n",
            "               precision    recall  f1-score   support\n",
            "\n",
            "     Default       0.82      0.84      0.83      8670\n",
            "  NotDefault       0.87      0.85      0.86     10679\n",
            "\n",
            "    accuracy                           0.84     19349\n",
            "   macro avg       0.84      0.84      0.84     19349\n",
            "weighted avg       0.84      0.84      0.84     19349\n",
            "\n"
          ]
        }
      ],
      "source": [
        "print(\"Support Vector Classifier:\")\n",
        "\n",
        "print(\"\\nAccuracy score:\\n\", round(accuracy_score(y_class_test, pred_class)*100,2), '%')\n",
        "print('*'*40)\n",
        "print(\"\\nConfusion Matrix:\\n\", confusion_matrix(y_class_test, pred_class))\n",
        "print('*'*40)\n",
        "print(\"\\nClassification Report:\\n\", classification_report(y_class_test, pred_class,\n",
        "                                        target_names=['Default', 'NotDefault']))"
      ]
    },
    {
      "cell_type": "markdown",
      "metadata": {
        "id": "sUBMf419vNaV"
      },
      "source": [
        "## Regression Pipeline"
      ]
    },
    {
      "cell_type": "code",
      "execution_count": 64,
      "metadata": {
        "id": "jjEs5tvKvNaV"
      },
      "outputs": [],
      "source": [
        "pipeline_reg =make_pipeline(preprocessor,pca,regressor)\n",
        "\n",
        "# fit and transform the pipeline\n",
        "pipeline_reg.fit(X_train, y_reg_train)\n",
        "\n",
        "# predict using the pipeline\n",
        "pred_reg = pipeline_reg.predict(X_test)"
      ]
    },
    {
      "cell_type": "markdown",
      "metadata": {
        "id": "7tYltergvNaX"
      },
      "source": [
        "---"
      ]
    },
    {
      "cell_type": "markdown",
      "metadata": {
        "id": "ril7g2qDvNaY"
      },
      "source": [
        "## saving model"
      ]
    },
    {
      "cell_type": "code",
      "execution_count": 65,
      "metadata": {
        "id": "l66Hnz3EvNaY"
      },
      "outputs": [],
      "source": [
        "import pickle\n",
        "pickle.dump(pipeline_class, open('pipeline_class2.pkl', 'wb'))\n",
        "pickle.dump(pipeline_reg, open('pipeline_reg2.pkl', 'wb'))"
      ]
    },
    {
      "cell_type": "code",
      "source": [
        "input=X_test.iloc[0].values"
      ],
      "metadata": {
        "id": "CmywU_pLJP24"
      },
      "execution_count": 66,
      "outputs": []
    },
    {
      "cell_type": "code",
      "source": [
        "input=input.reshape(1,-1)"
      ],
      "metadata": {
        "id": "9SRC9Ab5JVsF"
      },
      "execution_count": 67,
      "outputs": []
    },
    {
      "cell_type": "code",
      "source": [
        "input"
      ],
      "metadata": {
        "colab": {
          "base_uri": "https://localhost:8080/"
        },
        "id": "ZWVKQDdJJYdL",
        "outputId": "4c0db7ea-7e19-40f7-cc01-096a18842b97"
      },
      "execution_count": 68,
      "outputs": [
        {
          "output_type": "execute_result",
          "data": {
            "text/plain": [
              "array([[1176.0, 0.0, 263.0, 'True', 'Income and expenses verified',\n",
              "        'Finnish', 59, 'Male', 'FI', 2125.0, 59.73, 118.92, 'Not Set',\n",
              "        'Primary education', 'Not Specified', 'Not present', 'Retiree',\n",
              "        'Not present', 'Tenant,pre-furnished property', 1600.0, 0, 0,\n",
              "        0.0, 0.0, 'HR', 'False', 'M', 0.0, 0.0, 861.14]], dtype=object)"
            ]
          },
          "metadata": {},
          "execution_count": 68
        }
      ]
    },
    {
      "cell_type": "code",
      "source": [
        "model1=pickle.load(open('pipeline_class2.pkl','rb'))"
      ],
      "metadata": {
        "id": "TqGiOzsYJj6U"
      },
      "execution_count": 69,
      "outputs": []
    },
    {
      "cell_type": "code",
      "source": [
        "int(model1.predict(input))"
      ],
      "metadata": {
        "colab": {
          "base_uri": "https://localhost:8080/"
        },
        "id": "M9Qz4GGDJdnl",
        "outputId": "92d81ac3-27de-43d6-f8e3-299eb3d0dfae"
      },
      "execution_count": 70,
      "outputs": [
        {
          "output_type": "execute_result",
          "data": {
            "text/plain": [
              "1"
            ]
          },
          "metadata": {},
          "execution_count": 70
        }
      ]
    },
    {
      "cell_type": "code",
      "source": [
        "# import json\n",
        "# columns = {\n",
        "#     'data_columns' : [col.lower() for col in X.columns]\n",
        "# }\n",
        "# with open(\"columns.json\",\"w\") as f:\n",
        "#     f.write(json.dumps(columns))"
      ],
      "metadata": {
        "id": "UV8_k53tDHE8"
      },
      "execution_count": 71,
      "outputs": []
    },
    {
      "cell_type": "markdown",
      "metadata": {
        "id": "nel1hjA8vNaZ"
      },
      "source": [
        "---"
      ]
    }
  ],
  "metadata": {
    "colab": {
      "provenance": []
    },
    "kernelspec": {
      "display_name": "Python 3 (ipykernel)",
      "language": "python",
      "name": "python3"
    },
    "language_info": {
      "codemirror_mode": {
        "name": "ipython",
        "version": 3
      },
      "file_extension": ".py",
      "mimetype": "text/x-python",
      "name": "python",
      "nbconvert_exporter": "python",
      "pygments_lexer": "ipython3",
      "version": "3.9.13"
    },
    "vscode": {
      "interpreter": {
        "hash": "55f8b0c8eafc8c60051b10e3df5507ddbfe1017aee1ff3d5b682eb72f8ada892"
      }
    }
  },
  "nbformat": 4,
  "nbformat_minor": 0
}